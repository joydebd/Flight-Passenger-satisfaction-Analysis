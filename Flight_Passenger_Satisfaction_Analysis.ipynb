{
 "cells": [
  {
   "cell_type": "markdown",
   "id": "f5d80c60",
   "metadata": {
    "id": "f5d80c60"
   },
   "source": [
    "# 1. Problem Statement\n",
    " \n",
    "Students are expected to identify a classification / regression problem of your choice. You have to detail the problem under this heading which basically addresses the following questions.\n",
    " \n",
    "   1. What is the problem that you are trying to solve?\n",
    "   2. What kind of prediction (classification / regression) task are you performing?\n",
    "\n",
    "ENSURE THAT YOU ARE USING NUMERICAL / CATEGORICAL DATA only.\n",
    "\n",
    "DO NOT use images or textual data.\n",
    "\n",
    "Score: 1 Mark in total (0.5 mark each)"
   ]
  },
  {
   "cell_type": "markdown",
   "id": "22c9dcee",
   "metadata": {
    "id": "22c9dcee"
   },
   "source": [
    "Ans: \n",
    "\n",
    "1. **Problem statement**: predict passenger satisfaction, with dataset contains an airline passenger satisfaction survey. What factors are highly correlated to a satisfied (or dissatisfied) passenger?\n",
    "There are many factors which can affect the viability of a business from its competitiveness to its reputation and customer satisfaction. Customer satisfaction is particularly key as it can affect whether a customer is likely to reuse the service and whether they are likely to recommend the service. This is further emphasised by sources which highlight that retaining existing customers can be 4 to 10 times more cost effective then securing new customers.\n",
    "\n",
    "2. **Prediction**: classification problem, We used  Neural network pattern recognizer to predict passenger satisfaction. "
   ]
  },
  {
   "cell_type": "markdown",
   "id": "3cc8e0cb",
   "metadata": {
    "id": "3cc8e0cb"
   },
   "source": [
    "# 2. Data Acquisition\n",
    " \n",
    "For the problem identified by you, students have to find the data source themselves from any data source.\n",
    "\n",
    "## 2.1 Download the data directly\n",
    "\n",
    "Data source https://www.kaggle.com/datasets/teejmahal20/airline-passenger-satisfaction"
   ]
  },
  {
   "cell_type": "markdown",
   "id": "53Cxojzb65BO",
   "metadata": {
    "id": "53Cxojzb65BO"
   },
   "source": [
    "## About Data\n",
    "Gender: Gender of the passengers (Female, Male)\n",
    "\n",
    "Customer Type: The customer type (Loyal customer, disloyal customer)\n",
    "\n",
    "Age: The actual age of the passengers\n",
    "\n",
    "Type of Travel: Purpose of the flight of the passengers (Personal Travel, Business Travel)\n",
    "\n",
    "Class: Travel class in the plane of the passengers (Business, Eco, Eco Plus)\n",
    "\n",
    "Flight distance: The flight distance of this journey\n",
    "\n",
    "Inflight wifi service: Satisfaction level of the inflight wifi service (0:Not Applicable;1-5)\n",
    "\n",
    "Departure/Arrival time convenient: Satisfaction level of Departure/Arrival time convenient\n",
    "\n",
    "Ease of Online booking: Satisfaction level of online booking\n",
    "\n",
    "Gate location: Satisfaction level of Gate location\n",
    "\n",
    "Food and drink: Satisfaction level of Food and drink\n",
    "\n",
    "Online boarding: Satisfaction level of online boarding\n",
    "\n",
    "Seat comfort: Satisfaction level of Seat comfort\n",
    "\n",
    "Inflight entertainment: Satisfaction level of inflight entertainment\n",
    "\n",
    "On-board service: Satisfaction level of On-board service\n",
    "\n",
    "Leg room service: Satisfaction level of Leg room service\n",
    "\n",
    "Baggage handling: Satisfaction level of baggage handling\n",
    "\n",
    "Check-in service: Satisfaction level of Check-in service\n",
    "\n",
    "Inflight service: Satisfaction level of inflight service\n",
    "\n",
    "Cleanliness: Satisfaction level of Cleanliness\n",
    "\n",
    "Departure Delay in Minutes: Minutes delayed when departure\n",
    "\n",
    "Arrival Delay in Minutes: Minutes delayed when Arrival\n",
    "\n",
    "Satisfaction: Airline satisfaction level(Satisfaction, neutral or dissatisfaction)"
   ]
  },
  {
   "cell_type": "code",
   "execution_count": 3,
   "id": "4b51d895",
   "metadata": {
    "colab": {
     "base_uri": "https://localhost:8080/"
    },
    "id": "4b51d895",
    "outputId": "65a2b39f-0091-4039-af4f-194afdbacf0b"
   },
   "outputs": [
    {
     "name": "stdout",
     "output_type": "stream",
     "text": [
      "        Unnamed: 0      id  Gender      Customer Type  Age   Type of Travel  \\\n",
      "0                0   70172    Male     Loyal Customer   13  Personal Travel   \n",
      "1                1    5047    Male  disloyal Customer   25  Business travel   \n",
      "2                2  110028  Female     Loyal Customer   26  Business travel   \n",
      "3                3   24026  Female     Loyal Customer   25  Business travel   \n",
      "4                4  119299    Male     Loyal Customer   61  Business travel   \n",
      "...            ...     ...     ...                ...  ...              ...   \n",
      "103899      103899   94171  Female  disloyal Customer   23  Business travel   \n",
      "103900      103900   73097    Male     Loyal Customer   49  Business travel   \n",
      "103901      103901   68825    Male  disloyal Customer   30  Business travel   \n",
      "103902      103902   54173  Female  disloyal Customer   22  Business travel   \n",
      "103903      103903   62567    Male     Loyal Customer   27  Business travel   \n",
      "\n",
      "           Class  Flight Distance  Inflight wifi service  \\\n",
      "0       Eco Plus              460                      3   \n",
      "1       Business              235                      3   \n",
      "2       Business             1142                      2   \n",
      "3       Business              562                      2   \n",
      "4       Business              214                      3   \n",
      "...          ...              ...                    ...   \n",
      "103899       Eco              192                      2   \n",
      "103900  Business             2347                      4   \n",
      "103901  Business             1995                      1   \n",
      "103902       Eco             1000                      1   \n",
      "103903  Business             1723                      1   \n",
      "\n",
      "        Departure/Arrival time convenient  ...  Inflight entertainment  \\\n",
      "0                                       4  ...                       5   \n",
      "1                                       2  ...                       1   \n",
      "2                                       2  ...                       5   \n",
      "3                                       5  ...                       2   \n",
      "4                                       3  ...                       3   \n",
      "...                                   ...  ...                     ...   \n",
      "103899                                  1  ...                       2   \n",
      "103900                                  4  ...                       5   \n",
      "103901                                  1  ...                       4   \n",
      "103902                                  1  ...                       1   \n",
      "103903                                  3  ...                       1   \n",
      "\n",
      "        On-board service  Leg room service  Baggage handling  Checkin service  \\\n",
      "0                      4                 3                 4                4   \n",
      "1                      1                 5                 3                1   \n",
      "2                      4                 3                 4                4   \n",
      "3                      2                 5                 3                1   \n",
      "4                      3                 4                 4                3   \n",
      "...                  ...               ...               ...              ...   \n",
      "103899                 3                 1                 4                2   \n",
      "103900                 5                 5                 5                5   \n",
      "103901                 3                 2                 4                5   \n",
      "103902                 4                 5                 1                5   \n",
      "103903                 1                 1                 4                4   \n",
      "\n",
      "        Inflight service  Cleanliness  Departure Delay in Minutes  \\\n",
      "0                      5            5                          25   \n",
      "1                      4            1                           1   \n",
      "2                      4            5                           0   \n",
      "3                      4            2                          11   \n",
      "4                      3            3                           0   \n",
      "...                  ...          ...                         ...   \n",
      "103899                 3            2                           3   \n",
      "103900                 5            4                           0   \n",
      "103901                 5            4                           7   \n",
      "103902                 4            1                           0   \n",
      "103903                 3            1                           0   \n",
      "\n",
      "        Arrival Delay in Minutes             satisfaction  \n",
      "0                           18.0  neutral or dissatisfied  \n",
      "1                            6.0  neutral or dissatisfied  \n",
      "2                            0.0                satisfied  \n",
      "3                            9.0  neutral or dissatisfied  \n",
      "4                            0.0                satisfied  \n",
      "...                          ...                      ...  \n",
      "103899                       0.0  neutral or dissatisfied  \n",
      "103900                       0.0                satisfied  \n",
      "103901                      14.0  neutral or dissatisfied  \n",
      "103902                       0.0  neutral or dissatisfied  \n",
      "103903                       0.0  neutral or dissatisfied  \n",
      "\n",
      "[103904 rows x 25 columns]\n"
     ]
    }
   ],
   "source": [
    "##---------Type the code below this line------------------##\n",
    "\n",
    "import pandas as pd\n",
    "import io\n",
    "import numpy as np\n",
    "import seaborn as sns\n",
    "import matplotlib.pyplot as plt\n",
    "from sklearn.preprocessing import LabelEncoder\n",
    "from sklearn.model_selection import train_test_split\n",
    "from sklearn.metrics import confusion_matrix, classification_report, roc_auc_score, precision_recall_curve, roc_curve, auc, average_precision_score\n",
    "import warnings\n",
    "warnings.simplefilter(action='ignore')\n",
    "\n",
    "df=pd.read_csv('./train.csv')\n",
    "print(df)"
   ]
  },
  {
   "cell_type": "code",
   "execution_count": 4,
   "id": "nvR6p4OgNHCx",
   "metadata": {
    "colab": {
     "base_uri": "https://localhost:8080/"
    },
    "id": "nvR6p4OgNHCx",
    "outputId": "779a160a-8736-44ed-87c0-b8a918d25418"
   },
   "outputs": [
    {
     "data": {
      "text/plain": [
       "(103904, 25)"
      ]
     },
     "execution_count": 4,
     "metadata": {},
     "output_type": "execute_result"
    }
   ],
   "source": [
    "df.shape"
   ]
  },
  {
   "cell_type": "code",
   "execution_count": 5,
   "id": "PdHtAaQOSrGl",
   "metadata": {
    "colab": {
     "base_uri": "https://localhost:8080/"
    },
    "id": "PdHtAaQOSrGl",
    "outputId": "8ddde5ac-a0be-4375-f151-c3570cd030d2"
   },
   "outputs": [
    {
     "name": "stdout",
     "output_type": "stream",
     "text": [
      "<class 'pandas.core.frame.DataFrame'>\n",
      "RangeIndex: 103904 entries, 0 to 103903\n",
      "Data columns (total 25 columns):\n",
      " #   Column                             Non-Null Count   Dtype  \n",
      "---  ------                             --------------   -----  \n",
      " 0   Unnamed: 0                         103904 non-null  int64  \n",
      " 1   id                                 103904 non-null  int64  \n",
      " 2   Gender                             103904 non-null  object \n",
      " 3   Customer Type                      103904 non-null  object \n",
      " 4   Age                                103904 non-null  int64  \n",
      " 5   Type of Travel                     103904 non-null  object \n",
      " 6   Class                              103904 non-null  object \n",
      " 7   Flight Distance                    103904 non-null  int64  \n",
      " 8   Inflight wifi service              103904 non-null  int64  \n",
      " 9   Departure/Arrival time convenient  103904 non-null  int64  \n",
      " 10  Ease of Online booking             103904 non-null  int64  \n",
      " 11  Gate location                      103904 non-null  int64  \n",
      " 12  Food and drink                     103904 non-null  int64  \n",
      " 13  Online boarding                    103904 non-null  int64  \n",
      " 14  Seat comfort                       103904 non-null  int64  \n",
      " 15  Inflight entertainment             103904 non-null  int64  \n",
      " 16  On-board service                   103904 non-null  int64  \n",
      " 17  Leg room service                   103904 non-null  int64  \n",
      " 18  Baggage handling                   103904 non-null  int64  \n",
      " 19  Checkin service                    103904 non-null  int64  \n",
      " 20  Inflight service                   103904 non-null  int64  \n",
      " 21  Cleanliness                        103904 non-null  int64  \n",
      " 22  Departure Delay in Minutes         103904 non-null  int64  \n",
      " 23  Arrival Delay in Minutes           103594 non-null  float64\n",
      " 24  satisfaction                       103904 non-null  object \n",
      "dtypes: float64(1), int64(19), object(5)\n",
      "memory usage: 19.8+ MB\n"
     ]
    }
   ],
   "source": [
    "df.info()"
   ]
  },
  {
   "cell_type": "markdown",
   "id": "49530d0c",
   "metadata": {
    "id": "49530d0c"
   },
   "source": [
    "## 2.2 Code for converting the above downloaded data into a form suitable for DL "
   ]
  },
  {
   "cell_type": "markdown",
   "id": "a2P-AW0-SvHL",
   "metadata": {
    "id": "a2P-AW0-SvHL"
   },
   "source": [
    "we can use the above dataframe for dl "
   ]
  },
  {
   "cell_type": "markdown",
   "id": "727198d9",
   "metadata": {
    "id": "727198d9"
   },
   "source": [
    "## 2.3 Write your observations from the above. \n",
    "\n",
    "1. Size of the dataset\n",
    "2. What type of data attributes are there?\n",
    "\n",
    "Ans: As per above command \n",
    "   1. size of dataset is (103904 rows  x 25 columns)\n",
    "   2. Total 24 attributes\n",
    "\n",
    "\n",
    "Score: 2 Mark"
   ]
  },
  {
   "cell_type": "code",
   "execution_count": 6,
   "id": "j4TPLxaPNrxg",
   "metadata": {
    "colab": {
     "base_uri": "https://localhost:8080/",
     "height": 438
    },
    "id": "j4TPLxaPNrxg",
    "outputId": "835265af-1b40-4c90-b58e-7530b02802f1"
   },
   "outputs": [
    {
     "data": {
      "text/html": [
       "<div>\n",
       "<style scoped>\n",
       "    .dataframe tbody tr th:only-of-type {\n",
       "        vertical-align: middle;\n",
       "    }\n",
       "\n",
       "    .dataframe tbody tr th {\n",
       "        vertical-align: top;\n",
       "    }\n",
       "\n",
       "    .dataframe thead th {\n",
       "        text-align: right;\n",
       "    }\n",
       "</style>\n",
       "<table border=\"1\" class=\"dataframe\">\n",
       "  <thead>\n",
       "    <tr style=\"text-align: right;\">\n",
       "      <th></th>\n",
       "      <th>Unnamed: 0</th>\n",
       "      <th>id</th>\n",
       "      <th>Gender</th>\n",
       "      <th>Customer Type</th>\n",
       "      <th>Age</th>\n",
       "      <th>Type of Travel</th>\n",
       "      <th>Class</th>\n",
       "      <th>Flight Distance</th>\n",
       "      <th>Inflight wifi service</th>\n",
       "      <th>Departure/Arrival time convenient</th>\n",
       "      <th>...</th>\n",
       "      <th>Inflight entertainment</th>\n",
       "      <th>On-board service</th>\n",
       "      <th>Leg room service</th>\n",
       "      <th>Baggage handling</th>\n",
       "      <th>Checkin service</th>\n",
       "      <th>Inflight service</th>\n",
       "      <th>Cleanliness</th>\n",
       "      <th>Departure Delay in Minutes</th>\n",
       "      <th>Arrival Delay in Minutes</th>\n",
       "      <th>satisfaction</th>\n",
       "    </tr>\n",
       "  </thead>\n",
       "  <tbody>\n",
       "    <tr>\n",
       "      <th>0</th>\n",
       "      <td>0</td>\n",
       "      <td>70172</td>\n",
       "      <td>Male</td>\n",
       "      <td>Loyal Customer</td>\n",
       "      <td>13</td>\n",
       "      <td>Personal Travel</td>\n",
       "      <td>Eco Plus</td>\n",
       "      <td>460</td>\n",
       "      <td>3</td>\n",
       "      <td>4</td>\n",
       "      <td>...</td>\n",
       "      <td>5</td>\n",
       "      <td>4</td>\n",
       "      <td>3</td>\n",
       "      <td>4</td>\n",
       "      <td>4</td>\n",
       "      <td>5</td>\n",
       "      <td>5</td>\n",
       "      <td>25</td>\n",
       "      <td>18.0</td>\n",
       "      <td>neutral or dissatisfied</td>\n",
       "    </tr>\n",
       "    <tr>\n",
       "      <th>1</th>\n",
       "      <td>1</td>\n",
       "      <td>5047</td>\n",
       "      <td>Male</td>\n",
       "      <td>disloyal Customer</td>\n",
       "      <td>25</td>\n",
       "      <td>Business travel</td>\n",
       "      <td>Business</td>\n",
       "      <td>235</td>\n",
       "      <td>3</td>\n",
       "      <td>2</td>\n",
       "      <td>...</td>\n",
       "      <td>1</td>\n",
       "      <td>1</td>\n",
       "      <td>5</td>\n",
       "      <td>3</td>\n",
       "      <td>1</td>\n",
       "      <td>4</td>\n",
       "      <td>1</td>\n",
       "      <td>1</td>\n",
       "      <td>6.0</td>\n",
       "      <td>neutral or dissatisfied</td>\n",
       "    </tr>\n",
       "    <tr>\n",
       "      <th>2</th>\n",
       "      <td>2</td>\n",
       "      <td>110028</td>\n",
       "      <td>Female</td>\n",
       "      <td>Loyal Customer</td>\n",
       "      <td>26</td>\n",
       "      <td>Business travel</td>\n",
       "      <td>Business</td>\n",
       "      <td>1142</td>\n",
       "      <td>2</td>\n",
       "      <td>2</td>\n",
       "      <td>...</td>\n",
       "      <td>5</td>\n",
       "      <td>4</td>\n",
       "      <td>3</td>\n",
       "      <td>4</td>\n",
       "      <td>4</td>\n",
       "      <td>4</td>\n",
       "      <td>5</td>\n",
       "      <td>0</td>\n",
       "      <td>0.0</td>\n",
       "      <td>satisfied</td>\n",
       "    </tr>\n",
       "    <tr>\n",
       "      <th>3</th>\n",
       "      <td>3</td>\n",
       "      <td>24026</td>\n",
       "      <td>Female</td>\n",
       "      <td>Loyal Customer</td>\n",
       "      <td>25</td>\n",
       "      <td>Business travel</td>\n",
       "      <td>Business</td>\n",
       "      <td>562</td>\n",
       "      <td>2</td>\n",
       "      <td>5</td>\n",
       "      <td>...</td>\n",
       "      <td>2</td>\n",
       "      <td>2</td>\n",
       "      <td>5</td>\n",
       "      <td>3</td>\n",
       "      <td>1</td>\n",
       "      <td>4</td>\n",
       "      <td>2</td>\n",
       "      <td>11</td>\n",
       "      <td>9.0</td>\n",
       "      <td>neutral or dissatisfied</td>\n",
       "    </tr>\n",
       "    <tr>\n",
       "      <th>4</th>\n",
       "      <td>4</td>\n",
       "      <td>119299</td>\n",
       "      <td>Male</td>\n",
       "      <td>Loyal Customer</td>\n",
       "      <td>61</td>\n",
       "      <td>Business travel</td>\n",
       "      <td>Business</td>\n",
       "      <td>214</td>\n",
       "      <td>3</td>\n",
       "      <td>3</td>\n",
       "      <td>...</td>\n",
       "      <td>3</td>\n",
       "      <td>3</td>\n",
       "      <td>4</td>\n",
       "      <td>4</td>\n",
       "      <td>3</td>\n",
       "      <td>3</td>\n",
       "      <td>3</td>\n",
       "      <td>0</td>\n",
       "      <td>0.0</td>\n",
       "      <td>satisfied</td>\n",
       "    </tr>\n",
       "  </tbody>\n",
       "</table>\n",
       "<p>5 rows × 25 columns</p>\n",
       "</div>"
      ],
      "text/plain": [
       "   Unnamed: 0      id  Gender      Customer Type  Age   Type of Travel  \\\n",
       "0           0   70172    Male     Loyal Customer   13  Personal Travel   \n",
       "1           1    5047    Male  disloyal Customer   25  Business travel   \n",
       "2           2  110028  Female     Loyal Customer   26  Business travel   \n",
       "3           3   24026  Female     Loyal Customer   25  Business travel   \n",
       "4           4  119299    Male     Loyal Customer   61  Business travel   \n",
       "\n",
       "      Class  Flight Distance  Inflight wifi service  \\\n",
       "0  Eco Plus              460                      3   \n",
       "1  Business              235                      3   \n",
       "2  Business             1142                      2   \n",
       "3  Business              562                      2   \n",
       "4  Business              214                      3   \n",
       "\n",
       "   Departure/Arrival time convenient  ...  Inflight entertainment  \\\n",
       "0                                  4  ...                       5   \n",
       "1                                  2  ...                       1   \n",
       "2                                  2  ...                       5   \n",
       "3                                  5  ...                       2   \n",
       "4                                  3  ...                       3   \n",
       "\n",
       "   On-board service  Leg room service  Baggage handling  Checkin service  \\\n",
       "0                 4                 3                 4                4   \n",
       "1                 1                 5                 3                1   \n",
       "2                 4                 3                 4                4   \n",
       "3                 2                 5                 3                1   \n",
       "4                 3                 4                 4                3   \n",
       "\n",
       "   Inflight service  Cleanliness  Departure Delay in Minutes  \\\n",
       "0                 5            5                          25   \n",
       "1                 4            1                           1   \n",
       "2                 4            5                           0   \n",
       "3                 4            2                          11   \n",
       "4                 3            3                           0   \n",
       "\n",
       "   Arrival Delay in Minutes             satisfaction  \n",
       "0                      18.0  neutral or dissatisfied  \n",
       "1                       6.0  neutral or dissatisfied  \n",
       "2                       0.0                satisfied  \n",
       "3                       9.0  neutral or dissatisfied  \n",
       "4                       0.0                satisfied  \n",
       "\n",
       "[5 rows x 25 columns]"
      ]
     },
     "execution_count": 6,
     "metadata": {},
     "output_type": "execute_result"
    }
   ],
   "source": [
    "df.head()"
   ]
  },
  {
   "cell_type": "markdown",
   "id": "102e0e36",
   "metadata": {
    "id": "102e0e36"
   },
   "source": [
    "# 3. Data Preparation\n",
    "\n",
    "Perform the data prepracessing that is required for the data that you have downloaded. \n"
   ]
  },
  {
   "cell_type": "markdown",
   "id": "06fdebf8",
   "metadata": {
    "id": "06fdebf8"
   },
   "source": [
    "## 3.1 Apply techiniques\n",
    "* to remove duplicate data\n",
    "* to impute or remove missing data\n",
    "* to remove data inconsistencies\n",
    "\n",
    "IF ANY"
   ]
  },
  {
   "cell_type": "markdown",
   "id": "DZp5y3_qA09P",
   "metadata": {
    "id": "DZp5y3_qA09P"
   },
   "source": [
    "Checking for the total number of values missing"
   ]
  },
  {
   "cell_type": "code",
   "execution_count": 7,
   "id": "dd3118eb",
   "metadata": {
    "colab": {
     "base_uri": "https://localhost:8080/"
    },
    "id": "dd3118eb",
    "outputId": "68cc879f-2b5f-4183-92db-6bb4af1f3fab"
   },
   "outputs": [
    {
     "data": {
      "text/plain": [
       "Unnamed: 0                             0\n",
       "id                                     0\n",
       "Gender                                 0\n",
       "Customer Type                          0\n",
       "Age                                    0\n",
       "Type of Travel                         0\n",
       "Class                                  0\n",
       "Flight Distance                        0\n",
       "Inflight wifi service                  0\n",
       "Departure/Arrival time convenient      0\n",
       "Ease of Online booking                 0\n",
       "Gate location                          0\n",
       "Food and drink                         0\n",
       "Online boarding                        0\n",
       "Seat comfort                           0\n",
       "Inflight entertainment                 0\n",
       "On-board service                       0\n",
       "Leg room service                       0\n",
       "Baggage handling                       0\n",
       "Checkin service                        0\n",
       "Inflight service                       0\n",
       "Cleanliness                            0\n",
       "Departure Delay in Minutes             0\n",
       "Arrival Delay in Minutes             310\n",
       "satisfaction                           0\n",
       "dtype: int64"
      ]
     },
     "execution_count": 7,
     "metadata": {},
     "output_type": "execute_result"
    }
   ],
   "source": [
    "##---------Type the code below this line------------------##\n",
    "df.isnull().sum()"
   ]
  },
  {
   "cell_type": "markdown",
   "id": "cgaW02mbBFO4",
   "metadata": {
    "id": "cgaW02mbBFO4"
   },
   "source": [
    "Arrival Delay in Minutes  column is the only column that has missing data in it (310 missing values)\n",
    "before fixing it we have to see it's distrbition"
   ]
  },
  {
   "cell_type": "code",
   "execution_count": 8,
   "id": "a3b2cdee",
   "metadata": {
    "colab": {
     "base_uri": "https://localhost:8080/"
    },
    "id": "a3b2cdee",
    "outputId": "1649e4b6-7581-405e-fd9c-656ee3d2ab40"
   },
   "outputs": [
    {
     "data": {
      "text/plain": [
       "0.0      58159\n",
       "1.0       2211\n",
       "2.0       2064\n",
       "3.0       1952\n",
       "4.0       1907\n",
       "         ...  \n",
       "446.0        1\n",
       "920.0        1\n",
       "345.0        1\n",
       "406.0        1\n",
       "484.0        1\n",
       "Name: Arrival Delay in Minutes, Length: 455, dtype: int64"
      ]
     },
     "execution_count": 8,
     "metadata": {},
     "output_type": "execute_result"
    }
   ],
   "source": [
    "##---------Type the code below this line------------------##\n",
    "df['Arrival Delay in Minutes'].value_counts()"
   ]
  },
  {
   "cell_type": "markdown",
   "id": "fmFlRuHOBhI3",
   "metadata": {
    "id": "fmFlRuHOBhI3"
   },
   "source": [
    "filling the missing values and fixing the data"
   ]
  },
  {
   "cell_type": "code",
   "execution_count": 9,
   "id": "O0RoS4AWHj7r",
   "metadata": {
    "id": "O0RoS4AWHj7r"
   },
   "outputs": [],
   "source": [
    "df['Arrival Delay in Minutes']= df['Arrival Delay in Minutes'].fillna(df['Arrival Delay in Minutes'].mean())"
   ]
  },
  {
   "cell_type": "code",
   "execution_count": 10,
   "id": "ddb22b50",
   "metadata": {},
   "outputs": [
    {
     "data": {
      "text/plain": [
       "Unnamed: 0                           0\n",
       "id                                   0\n",
       "Gender                               0\n",
       "Customer Type                        0\n",
       "Age                                  0\n",
       "Type of Travel                       0\n",
       "Class                                0\n",
       "Flight Distance                      0\n",
       "Inflight wifi service                0\n",
       "Departure/Arrival time convenient    0\n",
       "Ease of Online booking               0\n",
       "Gate location                        0\n",
       "Food and drink                       0\n",
       "Online boarding                      0\n",
       "Seat comfort                         0\n",
       "Inflight entertainment               0\n",
       "On-board service                     0\n",
       "Leg room service                     0\n",
       "Baggage handling                     0\n",
       "Checkin service                      0\n",
       "Inflight service                     0\n",
       "Cleanliness                          0\n",
       "Departure Delay in Minutes           0\n",
       "Arrival Delay in Minutes             0\n",
       "satisfaction                         0\n",
       "dtype: int64"
      ]
     },
     "execution_count": 10,
     "metadata": {},
     "output_type": "execute_result"
    }
   ],
   "source": [
    "df.isnull().sum()"
   ]
  },
  {
   "cell_type": "markdown",
   "id": "f33f2311",
   "metadata": {},
   "source": [
    "# now there is no missing value"
   ]
  },
  {
   "cell_type": "code",
   "execution_count": 11,
   "id": "8N7ojBQJHbPR",
   "metadata": {
    "id": "8N7ojBQJHbPR"
   },
   "outputs": [],
   "source": [
    "df['Arrival Delay in Minutes'] = df['Arrival Delay in Minutes'].astype(int)\n",
    "df['Departure Delay in Minutes'] = df['Departure Delay in Minutes'].astype(int)"
   ]
  },
  {
   "cell_type": "code",
   "execution_count": 12,
   "id": "LJh-xlQ1AKZB",
   "metadata": {
    "colab": {
     "base_uri": "https://localhost:8080/"
    },
    "id": "LJh-xlQ1AKZB",
    "outputId": "5ed9f65c-ce8a-4b66-e46b-730a676cc67d"
   },
   "outputs": [
    {
     "data": {
      "text/plain": [
       "False"
      ]
     },
     "execution_count": 12,
     "metadata": {},
     "output_type": "execute_result"
    }
   ],
   "source": [
    "# check for duplicates\n",
    "df.duplicated().any()"
   ]
  },
  {
   "cell_type": "markdown",
   "id": "F__veIJsAW7X",
   "metadata": {
    "id": "F__veIJsAW7X"
   },
   "source": [
    "there is no duplicate data"
   ]
  },
  {
   "cell_type": "markdown",
   "id": "cb3ca738",
   "metadata": {
    "id": "cb3ca738"
   },
   "source": [
    "## 3.2 Encode categorical data"
   ]
  },
  {
   "cell_type": "code",
   "execution_count": 13,
   "id": "08fc7ffc",
   "metadata": {
    "id": "08fc7ffc"
   },
   "outputs": [],
   "source": [
    "##---------Type the code below this line------------------##\n",
    "from sklearn.preprocessing import LabelEncoder\n",
    "from sklearn.preprocessing import StandardScaler\n",
    "from sklearn.preprocessing import RobustScaler\n",
    "le = LabelEncoder()\n",
    "scaler = StandardScaler()\n",
    "rScaller = RobustScaler()\n",
    "# transforming the datatype (Encoding)\n",
    "df['satisfaction'] = le.fit_transform(df['satisfaction'])\n",
    "# transforming the datatype (Encoding)\n",
    "df['Class'] = le.fit_transform(df['Class'])\n",
    "# transforming the datatype (Encoding)\n",
    "df['Customer Type'] = le.fit_transform(df['Customer Type'])\n",
    "# transforming the datatype (Encoding)\n",
    "df['Type of Travel'] = le.fit_transform(df['Type of Travel'])"
   ]
  },
  {
   "cell_type": "code",
   "execution_count": 14,
   "id": "MG0EycWaDMwB",
   "metadata": {
    "id": "MG0EycWaDMwB"
   },
   "outputs": [],
   "source": [
    "df['Gender'] = df['Gender'].factorize(['male','female'])[0]"
   ]
  },
  {
   "cell_type": "markdown",
   "id": "d3897985",
   "metadata": {
    "id": "d3897985"
   },
   "source": [
    "## 3.3 Feature Engineering"
   ]
  },
  {
   "cell_type": "markdown",
   "id": "qAZC086tDgob",
   "metadata": {
    "id": "qAZC086tDgob"
   },
   "source": [
    "let's check outliers "
   ]
  },
  {
   "cell_type": "code",
   "execution_count": 15,
   "id": "c7856104",
   "metadata": {
    "colab": {
     "base_uri": "https://localhost:8080/",
     "height": 592
    },
    "id": "c7856104",
    "outputId": "ac17e11d-6911-4e39-9622-77a2fe0b7fb2"
   },
   "outputs": [
    {
     "data": {
      "image/png": "[encoded data removed]",
      "text/plain": [
       "<Figure size 1080x720 with 25 Axes>"
      ]
     },
     "metadata": {
      "needs_background": "light"
     },
     "output_type": "display_data"
    }
   ],
   "source": [
    "# drawing a box plots for all columns\n",
    "\n",
    "df.plot(kind='box', subplots=True, layout=(5,5), figsize=(15,10))\n",
    "plt.show()"
   ]
  },
  {
   "cell_type": "code",
   "execution_count": 16,
   "id": "Q5qI0FovcMZh",
   "metadata": {
    "id": "Q5qI0FovcMZh"
   },
   "outputs": [],
   "source": [
    "df = df.drop(['Unnamed: 0'], axis=1) # drop unrelated columns\n",
    "ids = df.pop('id')"
   ]
  },
  {
   "cell_type": "code",
   "execution_count": 17,
   "id": "Z5sg1t6DiOxa",
   "metadata": {
    "colab": {
     "base_uri": "https://localhost:8080/",
     "height": 352
    },
    "id": "Z5sg1t6DiOxa",
    "outputId": "20d71819-d6f3-4d4e-c2be-4b801b88bd98"
   },
   "outputs": [
    {
     "data": {
      "text/html": [
       "<div>\n",
       "<style scoped>\n",
       "    .dataframe tbody tr th:only-of-type {\n",
       "        vertical-align: middle;\n",
       "    }\n",
       "\n",
       "    .dataframe tbody tr th {\n",
       "        vertical-align: top;\n",
       "    }\n",
       "\n",
       "    .dataframe thead th {\n",
       "        text-align: right;\n",
       "    }\n",
       "</style>\n",
       "<table border=\"1\" class=\"dataframe\">\n",
       "  <thead>\n",
       "    <tr style=\"text-align: right;\">\n",
       "      <th></th>\n",
       "      <th>Gender</th>\n",
       "      <th>Customer Type</th>\n",
       "      <th>Age</th>\n",
       "      <th>Type of Travel</th>\n",
       "      <th>Class</th>\n",
       "      <th>Flight Distance</th>\n",
       "      <th>Inflight wifi service</th>\n",
       "      <th>Departure/Arrival time convenient</th>\n",
       "      <th>Ease of Online booking</th>\n",
       "      <th>Gate location</th>\n",
       "      <th>...</th>\n",
       "      <th>Inflight entertainment</th>\n",
       "      <th>On-board service</th>\n",
       "      <th>Leg room service</th>\n",
       "      <th>Baggage handling</th>\n",
       "      <th>Checkin service</th>\n",
       "      <th>Inflight service</th>\n",
       "      <th>Cleanliness</th>\n",
       "      <th>Departure Delay in Minutes</th>\n",
       "      <th>Arrival Delay in Minutes</th>\n",
       "      <th>satisfaction</th>\n",
       "    </tr>\n",
       "  </thead>\n",
       "  <tbody>\n",
       "    <tr>\n",
       "      <th>0</th>\n",
       "      <td>1</td>\n",
       "      <td>0</td>\n",
       "      <td>13</td>\n",
       "      <td>1</td>\n",
       "      <td>2</td>\n",
       "      <td>460</td>\n",
       "      <td>3</td>\n",
       "      <td>4</td>\n",
       "      <td>3</td>\n",
       "      <td>1</td>\n",
       "      <td>...</td>\n",
       "      <td>5</td>\n",
       "      <td>4</td>\n",
       "      <td>3</td>\n",
       "      <td>4</td>\n",
       "      <td>4</td>\n",
       "      <td>5</td>\n",
       "      <td>5</td>\n",
       "      <td>25</td>\n",
       "      <td>18</td>\n",
       "      <td>0</td>\n",
       "    </tr>\n",
       "    <tr>\n",
       "      <th>1</th>\n",
       "      <td>1</td>\n",
       "      <td>1</td>\n",
       "      <td>25</td>\n",
       "      <td>0</td>\n",
       "      <td>0</td>\n",
       "      <td>235</td>\n",
       "      <td>3</td>\n",
       "      <td>2</td>\n",
       "      <td>3</td>\n",
       "      <td>3</td>\n",
       "      <td>...</td>\n",
       "      <td>1</td>\n",
       "      <td>1</td>\n",
       "      <td>5</td>\n",
       "      <td>3</td>\n",
       "      <td>1</td>\n",
       "      <td>4</td>\n",
       "      <td>1</td>\n",
       "      <td>1</td>\n",
       "      <td>6</td>\n",
       "      <td>0</td>\n",
       "    </tr>\n",
       "    <tr>\n",
       "      <th>2</th>\n",
       "      <td>0</td>\n",
       "      <td>0</td>\n",
       "      <td>26</td>\n",
       "      <td>0</td>\n",
       "      <td>0</td>\n",
       "      <td>1142</td>\n",
       "      <td>2</td>\n",
       "      <td>2</td>\n",
       "      <td>2</td>\n",
       "      <td>2</td>\n",
       "      <td>...</td>\n",
       "      <td>5</td>\n",
       "      <td>4</td>\n",
       "      <td>3</td>\n",
       "      <td>4</td>\n",
       "      <td>4</td>\n",
       "      <td>4</td>\n",
       "      <td>5</td>\n",
       "      <td>0</td>\n",
       "      <td>0</td>\n",
       "      <td>1</td>\n",
       "    </tr>\n",
       "    <tr>\n",
       "      <th>3</th>\n",
       "      <td>0</td>\n",
       "      <td>0</td>\n",
       "      <td>25</td>\n",
       "      <td>0</td>\n",
       "      <td>0</td>\n",
       "      <td>562</td>\n",
       "      <td>2</td>\n",
       "      <td>5</td>\n",
       "      <td>5</td>\n",
       "      <td>5</td>\n",
       "      <td>...</td>\n",
       "      <td>2</td>\n",
       "      <td>2</td>\n",
       "      <td>5</td>\n",
       "      <td>3</td>\n",
       "      <td>1</td>\n",
       "      <td>4</td>\n",
       "      <td>2</td>\n",
       "      <td>11</td>\n",
       "      <td>9</td>\n",
       "      <td>0</td>\n",
       "    </tr>\n",
       "    <tr>\n",
       "      <th>4</th>\n",
       "      <td>1</td>\n",
       "      <td>0</td>\n",
       "      <td>61</td>\n",
       "      <td>0</td>\n",
       "      <td>0</td>\n",
       "      <td>214</td>\n",
       "      <td>3</td>\n",
       "      <td>3</td>\n",
       "      <td>3</td>\n",
       "      <td>3</td>\n",
       "      <td>...</td>\n",
       "      <td>3</td>\n",
       "      <td>3</td>\n",
       "      <td>4</td>\n",
       "      <td>4</td>\n",
       "      <td>3</td>\n",
       "      <td>3</td>\n",
       "      <td>3</td>\n",
       "      <td>0</td>\n",
       "      <td>0</td>\n",
       "      <td>1</td>\n",
       "    </tr>\n",
       "  </tbody>\n",
       "</table>\n",
       "<p>5 rows × 23 columns</p>\n",
       "</div>"
      ],
      "text/plain": [
       "   Gender  Customer Type  Age  Type of Travel  Class  Flight Distance  \\\n",
       "0       1              0   13               1      2              460   \n",
       "1       1              1   25               0      0              235   \n",
       "2       0              0   26               0      0             1142   \n",
       "3       0              0   25               0      0              562   \n",
       "4       1              0   61               0      0              214   \n",
       "\n",
       "   Inflight wifi service  Departure/Arrival time convenient  \\\n",
       "0                      3                                  4   \n",
       "1                      3                                  2   \n",
       "2                      2                                  2   \n",
       "3                      2                                  5   \n",
       "4                      3                                  3   \n",
       "\n",
       "   Ease of Online booking  Gate location  ...  Inflight entertainment  \\\n",
       "0                       3              1  ...                       5   \n",
       "1                       3              3  ...                       1   \n",
       "2                       2              2  ...                       5   \n",
       "3                       5              5  ...                       2   \n",
       "4                       3              3  ...                       3   \n",
       "\n",
       "   On-board service  Leg room service  Baggage handling  Checkin service  \\\n",
       "0                 4                 3                 4                4   \n",
       "1                 1                 5                 3                1   \n",
       "2                 4                 3                 4                4   \n",
       "3                 2                 5                 3                1   \n",
       "4                 3                 4                 4                3   \n",
       "\n",
       "   Inflight service  Cleanliness  Departure Delay in Minutes  \\\n",
       "0                 5            5                          25   \n",
       "1                 4            1                           1   \n",
       "2                 4            5                           0   \n",
       "3                 4            2                          11   \n",
       "4                 3            3                           0   \n",
       "\n",
       "   Arrival Delay in Minutes  satisfaction  \n",
       "0                        18             0  \n",
       "1                         6             0  \n",
       "2                         0             1  \n",
       "3                         9             0  \n",
       "4                         0             1  \n",
       "\n",
       "[5 rows x 23 columns]"
      ]
     },
     "execution_count": 17,
     "metadata": {},
     "output_type": "execute_result"
    }
   ],
   "source": [
    "df.head()"
   ]
  },
  {
   "cell_type": "markdown",
   "id": "793cd04b",
   "metadata": {
    "id": "793cd04b"
   },
   "source": [
    "## 3.4 Identify the target variables.\n",
    "\n",
    "* Separate the data front the target such that the dataset is in the form of (X,y) or (Features, Label)\n",
    "\n",
    "* Discretize / Encode the target variable or perform one-hot encoding on the target or any other as and if required.\n",
    "\n"
   ]
  },
  {
   "cell_type": "code",
   "execution_count": 18,
   "id": "c9089b57",
   "metadata": {
    "colab": {
     "base_uri": "https://localhost:8080/",
     "height": 352
    },
    "id": "c9089b57",
    "outputId": "e6b02d63-9b4e-4b9a-f6ed-b5b40c4bc6eb"
   },
   "outputs": [
    {
     "data": {
      "text/html": [
       "<div>\n",
       "<style scoped>\n",
       "    .dataframe tbody tr th:only-of-type {\n",
       "        vertical-align: middle;\n",
       "    }\n",
       "\n",
       "    .dataframe tbody tr th {\n",
       "        vertical-align: top;\n",
       "    }\n",
       "\n",
       "    .dataframe thead th {\n",
       "        text-align: right;\n",
       "    }\n",
       "</style>\n",
       "<table border=\"1\" class=\"dataframe\">\n",
       "  <thead>\n",
       "    <tr style=\"text-align: right;\">\n",
       "      <th></th>\n",
       "      <th>Gender</th>\n",
       "      <th>Customer Type</th>\n",
       "      <th>Age</th>\n",
       "      <th>Type of Travel</th>\n",
       "      <th>Class</th>\n",
       "      <th>Flight Distance</th>\n",
       "      <th>Inflight wifi service</th>\n",
       "      <th>Departure/Arrival time convenient</th>\n",
       "      <th>Ease of Online booking</th>\n",
       "      <th>Gate location</th>\n",
       "      <th>...</th>\n",
       "      <th>Seat comfort</th>\n",
       "      <th>Inflight entertainment</th>\n",
       "      <th>On-board service</th>\n",
       "      <th>Leg room service</th>\n",
       "      <th>Baggage handling</th>\n",
       "      <th>Checkin service</th>\n",
       "      <th>Inflight service</th>\n",
       "      <th>Cleanliness</th>\n",
       "      <th>Departure Delay in Minutes</th>\n",
       "      <th>Arrival Delay in Minutes</th>\n",
       "    </tr>\n",
       "  </thead>\n",
       "  <tbody>\n",
       "    <tr>\n",
       "      <th>0</th>\n",
       "      <td>1</td>\n",
       "      <td>0</td>\n",
       "      <td>13</td>\n",
       "      <td>1</td>\n",
       "      <td>2</td>\n",
       "      <td>460</td>\n",
       "      <td>3</td>\n",
       "      <td>4</td>\n",
       "      <td>3</td>\n",
       "      <td>1</td>\n",
       "      <td>...</td>\n",
       "      <td>5</td>\n",
       "      <td>5</td>\n",
       "      <td>4</td>\n",
       "      <td>3</td>\n",
       "      <td>4</td>\n",
       "      <td>4</td>\n",
       "      <td>5</td>\n",
       "      <td>5</td>\n",
       "      <td>25</td>\n",
       "      <td>18</td>\n",
       "    </tr>\n",
       "    <tr>\n",
       "      <th>1</th>\n",
       "      <td>1</td>\n",
       "      <td>1</td>\n",
       "      <td>25</td>\n",
       "      <td>0</td>\n",
       "      <td>0</td>\n",
       "      <td>235</td>\n",
       "      <td>3</td>\n",
       "      <td>2</td>\n",
       "      <td>3</td>\n",
       "      <td>3</td>\n",
       "      <td>...</td>\n",
       "      <td>1</td>\n",
       "      <td>1</td>\n",
       "      <td>1</td>\n",
       "      <td>5</td>\n",
       "      <td>3</td>\n",
       "      <td>1</td>\n",
       "      <td>4</td>\n",
       "      <td>1</td>\n",
       "      <td>1</td>\n",
       "      <td>6</td>\n",
       "    </tr>\n",
       "    <tr>\n",
       "      <th>2</th>\n",
       "      <td>0</td>\n",
       "      <td>0</td>\n",
       "      <td>26</td>\n",
       "      <td>0</td>\n",
       "      <td>0</td>\n",
       "      <td>1142</td>\n",
       "      <td>2</td>\n",
       "      <td>2</td>\n",
       "      <td>2</td>\n",
       "      <td>2</td>\n",
       "      <td>...</td>\n",
       "      <td>5</td>\n",
       "      <td>5</td>\n",
       "      <td>4</td>\n",
       "      <td>3</td>\n",
       "      <td>4</td>\n",
       "      <td>4</td>\n",
       "      <td>4</td>\n",
       "      <td>5</td>\n",
       "      <td>0</td>\n",
       "      <td>0</td>\n",
       "    </tr>\n",
       "    <tr>\n",
       "      <th>3</th>\n",
       "      <td>0</td>\n",
       "      <td>0</td>\n",
       "      <td>25</td>\n",
       "      <td>0</td>\n",
       "      <td>0</td>\n",
       "      <td>562</td>\n",
       "      <td>2</td>\n",
       "      <td>5</td>\n",
       "      <td>5</td>\n",
       "      <td>5</td>\n",
       "      <td>...</td>\n",
       "      <td>2</td>\n",
       "      <td>2</td>\n",
       "      <td>2</td>\n",
       "      <td>5</td>\n",
       "      <td>3</td>\n",
       "      <td>1</td>\n",
       "      <td>4</td>\n",
       "      <td>2</td>\n",
       "      <td>11</td>\n",
       "      <td>9</td>\n",
       "    </tr>\n",
       "    <tr>\n",
       "      <th>4</th>\n",
       "      <td>1</td>\n",
       "      <td>0</td>\n",
       "      <td>61</td>\n",
       "      <td>0</td>\n",
       "      <td>0</td>\n",
       "      <td>214</td>\n",
       "      <td>3</td>\n",
       "      <td>3</td>\n",
       "      <td>3</td>\n",
       "      <td>3</td>\n",
       "      <td>...</td>\n",
       "      <td>5</td>\n",
       "      <td>3</td>\n",
       "      <td>3</td>\n",
       "      <td>4</td>\n",
       "      <td>4</td>\n",
       "      <td>3</td>\n",
       "      <td>3</td>\n",
       "      <td>3</td>\n",
       "      <td>0</td>\n",
       "      <td>0</td>\n",
       "    </tr>\n",
       "  </tbody>\n",
       "</table>\n",
       "<p>5 rows × 22 columns</p>\n",
       "</div>"
      ],
      "text/plain": [
       "   Gender  Customer Type  Age  Type of Travel  Class  Flight Distance  \\\n",
       "0       1              0   13               1      2              460   \n",
       "1       1              1   25               0      0              235   \n",
       "2       0              0   26               0      0             1142   \n",
       "3       0              0   25               0      0              562   \n",
       "4       1              0   61               0      0              214   \n",
       "\n",
       "   Inflight wifi service  Departure/Arrival time convenient  \\\n",
       "0                      3                                  4   \n",
       "1                      3                                  2   \n",
       "2                      2                                  2   \n",
       "3                      2                                  5   \n",
       "4                      3                                  3   \n",
       "\n",
       "   Ease of Online booking  Gate location  ...  Seat comfort  \\\n",
       "0                       3              1  ...             5   \n",
       "1                       3              3  ...             1   \n",
       "2                       2              2  ...             5   \n",
       "3                       5              5  ...             2   \n",
       "4                       3              3  ...             5   \n",
       "\n",
       "   Inflight entertainment  On-board service  Leg room service  \\\n",
       "0                       5                 4                 3   \n",
       "1                       1                 1                 5   \n",
       "2                       5                 4                 3   \n",
       "3                       2                 2                 5   \n",
       "4                       3                 3                 4   \n",
       "\n",
       "   Baggage handling  Checkin service  Inflight service  Cleanliness  \\\n",
       "0                 4                4                 5            5   \n",
       "1                 3                1                 4            1   \n",
       "2                 4                4                 4            5   \n",
       "3                 3                1                 4            2   \n",
       "4                 4                3                 3            3   \n",
       "\n",
       "   Departure Delay in Minutes  Arrival Delay in Minutes  \n",
       "0                          25                        18  \n",
       "1                           1                         6  \n",
       "2                           0                         0  \n",
       "3                          11                         9  \n",
       "4                           0                         0  \n",
       "\n",
       "[5 rows x 22 columns]"
      ]
     },
     "execution_count": 18,
     "metadata": {},
     "output_type": "execute_result"
    }
   ],
   "source": [
    "##---------Type the code below this line------------------##\n",
    "y = df.satisfaction\n",
    "X = df.copy()\n",
    "X.drop(['satisfaction'],axis=1,inplace=True)\n",
    "X.head()"
   ]
  },
  {
   "cell_type": "code",
   "execution_count": 19,
   "id": "HhkdAmzUmJpH",
   "metadata": {
    "colab": {
     "base_uri": "https://localhost:8080/"
    },
    "id": "HhkdAmzUmJpH",
    "outputId": "249f568b-c0fb-484e-b42b-1b442be21f24"
   },
   "outputs": [
    {
     "name": "stdout",
     "output_type": "stream",
     "text": [
      "(103904, 22)\n",
      "(103904,)\n"
     ]
    }
   ],
   "source": [
    "print(X.shape)\n",
    "print(y.shape)"
   ]
  },
  {
   "cell_type": "code",
   "execution_count": 20,
   "id": "p3hSwh2uMhJT",
   "metadata": {
    "colab": {
     "base_uri": "https://localhost:8080/"
    },
    "id": "p3hSwh2uMhJT",
    "outputId": "893d48fd-6b69-4808-93ee-2858ab845627"
   },
   "outputs": [
    {
     "data": {
      "text/plain": [
       "0         0\n",
       "1         0\n",
       "2         1\n",
       "3         0\n",
       "4         1\n",
       "         ..\n",
       "103899    0\n",
       "103900    1\n",
       "103901    0\n",
       "103902    0\n",
       "103903    0\n",
       "Name: satisfaction, Length: 103904, dtype: int64"
      ]
     },
     "execution_count": 20,
     "metadata": {},
     "output_type": "execute_result"
    }
   ],
   "source": [
    "y"
   ]
  },
  {
   "cell_type": "markdown",
   "id": "7dabfd18",
   "metadata": {
    "id": "7dabfd18"
   },
   "source": [
    "Check satisfaction balancing"
   ]
  },
  {
   "cell_type": "code",
   "execution_count": 21,
   "id": "b3c6d0eb",
   "metadata": {
    "colab": {
     "base_uri": "https://localhost:8080/"
    },
    "id": "b3c6d0eb",
    "outputId": "a465fa2d-3880-4394-fcad-3ee5cbc49168"
   },
   "outputs": [
    {
     "data": {
      "text/plain": [
       "0    58879\n",
       "1    45025\n",
       "Name: satisfaction, dtype: int64"
      ]
     },
     "execution_count": 21,
     "metadata": {},
     "output_type": "execute_result"
    }
   ],
   "source": [
    "df['satisfaction'].value_counts()"
   ]
  },
  {
   "cell_type": "markdown",
   "id": "489ad728",
   "metadata": {
    "id": "489ad728"
   },
   "source": [
    "Target Value Distribution"
   ]
  },
  {
   "cell_type": "code",
   "execution_count": 22,
   "id": "215f5ab1",
   "metadata": {
    "colab": {
     "base_uri": "https://localhost:8080/",
     "height": 248
    },
    "id": "215f5ab1",
    "outputId": "9e1d31e1-7606-4d98-f63a-78106681f657"
   },
   "outputs": [
    {
     "data": {
      "image/png": "[encoded data removed]",
      "text/plain": [
       "<Figure size 432x288 with 1 Axes>"
      ]
     },
     "metadata": {},
     "output_type": "display_data"
    }
   ],
   "source": [
    "plt.pie(df.satisfaction.value_counts(), labels = [\"Neutral or dissatisfied\", \"Satisfied\"], \n",
    "        colors = sns.color_palette(\"Reds\"), autopct = '%1.1f%%')\n",
    "pass"
   ]
  },
  {
   "cell_type": "markdown",
   "id": "473415dd",
   "metadata": {
    "id": "473415dd"
   },
   "source": [
    "It appears that the data has a relatively good balance between the categories of the target column, and therefore we will not manipulate, this is natural balance."
   ]
  },
  {
   "cell_type": "markdown",
   "id": "4cd14601",
   "metadata": {
    "id": "4cd14601"
   },
   "source": [
    "## 3.5 Split the data into training set and testing set"
   ]
  },
  {
   "cell_type": "code",
   "execution_count": 23,
   "id": "1a74cd9c",
   "metadata": {
    "id": "1a74cd9c"
   },
   "outputs": [],
   "source": [
    "##---------Type the code below this line------------------##\n",
    "from sklearn.model_selection import train_test_split\n",
    "\n",
    "x_train , x_test , y_train , y_test = train_test_split(X,y , test_size=0.30 , random_state = 42,shuffle=True,stratify=y)"
   ]
  },
  {
   "cell_type": "code",
   "execution_count": 24,
   "id": "tIictotemR8G",
   "metadata": {
    "colab": {
     "base_uri": "https://localhost:8080/"
    },
    "id": "tIictotemR8G",
    "outputId": "671a5d06-16e4-4bc0-8b92-91699f1ef859"
   },
   "outputs": [
    {
     "name": "stdout",
     "output_type": "stream",
     "text": [
      "(72732, 22)\n",
      "(72732,)\n",
      "(31172, 22)\n",
      "(31172,)\n"
     ]
    }
   ],
   "source": [
    "print(x_train.shape)\n",
    "print(y_train.shape)\n",
    "print(x_test.shape)\n",
    "print(y_test.shape)"
   ]
  },
  {
   "cell_type": "markdown",
   "id": "Btt-4SvRM1SI",
   "metadata": {
    "id": "Btt-4SvRM1SI"
   },
   "source": [
    "scalling the data"
   ]
  },
  {
   "cell_type": "code",
   "execution_count": 25,
   "id": "-S3aZvyMMx40",
   "metadata": {
    "id": "-S3aZvyMMx40"
   },
   "outputs": [],
   "source": [
    "x_train_scaled = scaler.fit_transform(x_train)\n",
    "x_test_scaled = scaler.transform(x_test)"
   ]
  },
  {
   "cell_type": "markdown",
   "id": "e3cec4fc",
   "metadata": {
    "id": "e3cec4fc"
   },
   "source": [
    "## 3.6 Report\n",
    "\n",
    "Mention the method adopted  and justify why the method was used\n",
    "* to remove duplicate data, if present\n",
    "* to impute or remove missing data, if present \n",
    "* to remove data inconsistencies, if present \n",
    "* to encode categorical data \n",
    "* the normalization technique used\n",
    "\n",
    "If the any of the above are not present, then also add in the report below.\n",
    "\n",
    "Report the size of the training dataset and testing dataset\n",
    "\n",
    "Score: 3 Marks"
   ]
  },
  {
   "cell_type": "markdown",
   "id": "187aeb95",
   "metadata": {
    "id": "187aeb95"
   },
   "source": [
    "##---------Type the answer below this line------------------##"
   ]
  },
  {
   "cell_type": "code",
   "execution_count": 1,
   "id": "102751d2",
   "metadata": {
    "colab": {
     "base_uri": "https://localhost:8080/"
    },
    "id": "102751d2",
    "outputId": "8562dd67-772f-4756-cb67-5558ff46a449"
   },
   "outputs": [
    {
     "name": "stdout",
     "output_type": "stream",
     "text": [
      "Report result \n",
      "+----------------------+----------------+-----------------+----------------------+\n",
      "|       Subject        | Method Adopted |      Result     |    Justification     |\n",
      "+----------------------+----------------+-----------------+----------------------+\n",
      "|    Duplicate Data    | DataFrame. dup |   No duplicate  |  returns a boolean   |\n",
      "|                      | licated().any( |   data present  |     series which     |\n",
      "|                      |       )        |                 | identifies whether a |\n",
      "|                      |                |                 | row is duplicate or  |\n",
      "|                      |                |                 |        unique        |\n",
      "|     Missing Data     |    isnull()    |  Arrival Delay  | isnull function help |\n",
      "|                      |                |    in Minutes   | in checking whether  |\n",
      "|                      |                |  column is the  |  a value is null or  |\n",
      "|                      |                |   only column   |         not          |\n",
      "|                      |                |     that has    |                      |\n",
      "|                      |                | missing data in |                      |\n",
      "|                      |                | it (310 missing |                      |\n",
      "|                      |                |     values)     |                      |\n",
      "|  Data Inconsistency  | value_counts() | Natural balance | This method helps to |\n",
      "|                      |                |                 | check if there is an |\n",
      "|                      |                |                 |   imbalance in the   |\n",
      "|                      |                |                 |  classes present in  |\n",
      "|                      |                |                 | target variable. To  |\n",
      "|                      |                |                 |   balance, we can    |\n",
      "|                      |                |                 | either oversample or |\n",
      "|                      |                |                 | undersample the data |\n",
      "|  Encode Categorical  |  LabelEncoder  |   four columns  | LabelEncoder is used |\n",
      "|         Data         |                | are transformed | to normalize labels  |\n",
      "|                      |                |   to numerical  |                      |\n",
      "|                      |                |  labels such as |                      |\n",
      "|                      |                |  satisfaction,  |                      |\n",
      "|                      |                | Class, Customer |                      |\n",
      "|                      |                |  Type, Type of  |                      |\n",
      "|                      |                |      Travel     |                      |\n",
      "|    Normalization     | StandardScaler |   mean of the   | removes the mean and |\n",
      "|    Technique Used    |       ()       |    attribute    |     scales each      |\n",
      "|                      |                |   becomes zero  | feature/variable to  |\n",
      "|                      |                |                 |    unit variance     |\n",
      "+----------------------+----------------+-----------------+----------------------+\n"
     ]
    }
   ],
   "source": [
    "from prettytable import PrettyTable \n",
    "x = PrettyTable()\n",
    "x.field_names = [\"Subject\",\"Method Adopted\", \"Result\", \"Justification\"]\n",
    "x._max_width = {\"Subject\":20,\"Method Adopted\":10, \"Result\":15, \"Justification\" :20}\n",
    "x.add_row([\"Duplicate Data\",\"DataFrame. duplicated().any()\",\"No duplicate data present\",\"returns a boolean series which identifies whether a row is duplicate or unique\"])\n",
    "x.add_row([\"Missing Data\",\"isnull()\",\"Arrival Delay in Minutes  column is the only column that has missing data in it (310 missing values)\",\"isnull function help in checking whether a value is null or not\"])\n",
    "x.add_row([\"Data Inconsistency\",\"value_counts()\",\"Natural balance\",\"This method helps to check if there is an imbalance in the classes present in target variable. To balance, we can either oversample or undersample the data\"])\n",
    "x.add_row([\"Encode Categorical Data\",\"LabelEncoder\",\"four columns are transformed to numerical labels such as satisfaction, Class, Customer Type, Type of Travel \",\"LabelEncoder is used to normalize labels\"])\n",
    "x.add_row([\"Normalization Technique Used\",\"StandardScaler()\",\"mean of the attribute becomes zero\",\"removes the mean and scales each feature/variable to unit variance\"])\n",
    "print('Report result ')\n",
    "print(x)\n",
    " "
   ]
  },
  {
   "cell_type": "markdown",
   "id": "3ae0b5d2",
   "metadata": {
    "id": "3ae0b5d2"
   },
   "source": [
    "# 4. Deep Neural Network Architecture\n",
    "\n"
   ]
  },
  {
   "cell_type": "markdown",
   "id": "186bf4d7",
   "metadata": {
    "id": "186bf4d7"
   },
   "source": [
    "## 4.1 Design the architecture that you will be using to solve the prediction problem identified.\n",
    "\n",
    "* Add dense layers, specifying the number of units in each layer and the activation function used in the layer."
   ]
  },
  {
   "cell_type": "code",
   "execution_count": 35,
   "id": "868d7b27",
   "metadata": {
    "id": "868d7b27"
   },
   "outputs": [],
   "source": [
    "##---------Type the code below this line------------------##\n",
    "from keras.models import Sequential\n",
    "from keras import layers\n",
    "from keras.layers import Dense"
   ]
  },
  {
   "cell_type": "code",
   "execution_count": 36,
   "id": "TEo8pwBFbIcx",
   "metadata": {
    "colab": {
     "base_uri": "https://localhost:8080/"
    },
    "id": "TEo8pwBFbIcx",
    "outputId": "f31df300-4d3e-4cb2-a175-bc9b1c115564"
   },
   "outputs": [
    {
     "name": "stdout",
     "output_type": "stream",
     "text": [
      "Number of features:: 22\n"
     ]
    }
   ],
   "source": [
    "input_dim = x_train.shape[1]  # Number of features\n",
    "print(\"Number of features::\", input_dim)\n",
    "from tensorflow import keras\n",
    "model = keras.Sequential(\n",
    "    [\n",
    "        keras.layers.Dense(\n",
    "            12, activation=\"relu\", input_shape=(input_dim,)\n",
    "        ),\n",
    "        keras.layers.Dense(12, activation=\"relu\"),\n",
    "        keras.layers.Dropout(0.3),\n",
    "        keras.layers.Dense(8, activation=\"relu\"),\n",
    "        keras.layers.Dropout(0.3),\n",
    "        keras.layers.Dense(1, activation=\"sigmoid\"),\n",
    "    ]\n",
    ")"
   ]
  },
  {
   "cell_type": "code",
   "execution_count": 37,
   "id": "m2GD12W7mqP-",
   "metadata": {
    "colab": {
     "base_uri": "https://localhost:8080/"
    },
    "id": "m2GD12W7mqP-",
    "outputId": "9ed42c62-9fae-48d5-b357-e589a5975a2e"
   },
   "outputs": [
    {
     "name": "stdout",
     "output_type": "stream",
     "text": [
      "Model: \"sequential_1\"\n",
      "_________________________________________________________________\n",
      " Layer (type)                Output Shape              Param #   \n",
      "=================================================================\n",
      " dense_4 (Dense)             (None, 12)                276       \n",
      "                                                                 \n",
      " dense_5 (Dense)             (None, 12)                156       \n",
      "                                                                 \n",
      " dropout_2 (Dropout)         (None, 12)                0         \n",
      "                                                                 \n",
      " dense_6 (Dense)             (None, 8)                 104       \n",
      "                                                                 \n",
      " dropout_3 (Dropout)         (None, 8)                 0         \n",
      "                                                                 \n",
      " dense_7 (Dense)             (None, 1)                 9         \n",
      "                                                                 \n",
      "=================================================================\n",
      "Total params: 545\n",
      "Trainable params: 545\n",
      "Non-trainable params: 0\n",
      "_________________________________________________________________\n"
     ]
    }
   ],
   "source": [
    "model.summary()"
   ]
  },
  {
   "cell_type": "markdown",
   "id": "575f9e37",
   "metadata": {
    "id": "575f9e37"
   },
   "source": [
    "## 4.2 Report\n",
    "\n",
    "Report the following and provide justification for the same.\n",
    "\n",
    "* Number of layers\n",
    "* Number of units in each layer\n",
    "* Activation function used in each hidden layer\n",
    "* Activation function used in the output layer\n",
    "* Total number of trainable parameters \n",
    "\n",
    "Score: 4 Marks"
   ]
  },
  {
   "cell_type": "code",
   "execution_count": 2,
   "id": "752a3c78",
   "metadata": {
    "colab": {
     "base_uri": "https://localhost:8080/"
    },
    "id": "752a3c78",
    "outputId": "0da76901-821b-4438-fa12-2e36183970e8"
   },
   "outputs": [
    {
     "name": "stdout",
     "output_type": "stream",
     "text": [
      "Report result \n",
      "+--------------------------------+-----------+--------------------------------+\n",
      "|            Subject             |   Result  |         Justification          |\n",
      "+--------------------------------+-----------+--------------------------------+\n",
      "|        Number of layers        |     4     | 1 for input + 2 hidden layers  |\n",
      "|                                |           |        + 1 output layer        |\n",
      "| Number of units in each layer  | 22,12,8,1 |  22 in input,12 & 8 in dense   |\n",
      "|                                |           |         ,output have 1         |\n",
      "|  Activation function used in   |    relu   |  Used ReLU in hidden layer to  |\n",
      "|       each hidden layer        |           |    avoid vanishing gradient    |\n",
      "|                                |           | problem and better computation |\n",
      "|                                |           |          performance           |\n",
      "|  Activation function used in   |  sigmoid  |    Used sigmoid to add non-    |\n",
      "|        the output layer        |           |     linearity in the model     |\n",
      "|   Total number of trainable    |    545    |      total parameter used      |\n",
      "|           parameters           |           |                                |\n",
      "+--------------------------------+-----------+--------------------------------+\n"
     ]
    }
   ],
   "source": [
    "##---------Type the answer below this line------------------##\n",
    "from prettytable import PrettyTable \n",
    "x = PrettyTable()\n",
    "x.field_names = [\"Subject\", \"Result\", \"Justification\"]\n",
    "x._max_width = {\"Subject\":30, \"Result\":15, \"Justification\" : 30}\n",
    "x.add_row([\"Number of layers\",\"4\",\"1 for input + 2 hidden layers + 1 output layer\"])\n",
    "x.add_row([\"Number of units in each layer\",\"22,12,8,1\",\"22 in input,12 & 8 in dense ,output have 1 \"])\n",
    "x.add_row([\"Activation function used in each hidden layer\",\"relu\",\"Used ReLU in hidden layer to avoid vanishing gradient problem and better computation performance\"])\n",
    "x.add_row([\"Activation function used in the output layer\",\"sigmoid\",\"Used sigmoid to add non-linearity in the model\"])\n",
    "x.add_row([\"Total number of trainable parameters\",\"545\",\"total parameter used\"])\n",
    "print('Report result ')\n",
    "print(x)"
   ]
  },
  {
   "cell_type": "code",
   "execution_count": 42,
   "id": "9bfc5f16",
   "metadata": {
    "id": "9bfc5f16"
   },
   "outputs": [],
   "source": [
    "# 5. Training the model\n"
   ]
  },
  {
   "cell_type": "markdown",
   "id": "ca214eb3",
   "metadata": {
    "id": "ca214eb3"
   },
   "source": [
    "## 5.1 Configure the training\n",
    "\n",
    "Configure  the model for training, by using appropriate optimizers and regularizations\n",
    "\n"
   ]
  },
  {
   "cell_type": "code",
   "execution_count": 43,
   "id": "a85e9754",
   "metadata": {
    "id": "a85e9754"
   },
   "outputs": [],
   "source": [
    "##---------Type the code below this line------------------##\n",
    "# compile the keras model binary_crossentropy\n",
    "metrics = [\n",
    "    keras.metrics.FalseNegatives(name=\"fn\"),\n",
    "    keras.metrics.FalsePositives(name=\"fp\"),\n",
    "    keras.metrics.TrueNegatives(name=\"tn\"),\n",
    "    keras.metrics.TruePositives(name=\"tp\"),\n",
    "    keras.metrics.Precision(name=\"precision\"),\n",
    "    keras.metrics.Recall(name=\"recall\"),\n",
    "    keras.metrics.Recall(name=\"accuracy\")\n",
    "]\n",
    "model.compile(loss='binary_crossentropy', \n",
    "              optimizer='adam', \n",
    "              metrics=metrics)"
   ]
  },
  {
   "cell_type": "markdown",
   "id": "32fd60d8",
   "metadata": {
    "id": "32fd60d8"
   },
   "source": [
    "## 5.2 Train the model"
   ]
  },
  {
   "cell_type": "code",
   "execution_count": 44,
   "id": "8efaa227",
   "metadata": {
    "colab": {
     "base_uri": "https://localhost:8080/"
    },
    "id": "8efaa227",
    "outputId": "63fb6384-10ce-474b-8340-79f1dd102287"
   },
   "outputs": [
    {
     "name": "stdout",
     "output_type": "stream",
     "text": [
      "Epoch 1/100\n",
      "7274/7274 [==============================] - 10s 1ms/step - loss: 1.7453 - fn: 30510.0000 - fp: 1339.0000 - tn: 39876.0000 - tp: 1007.0000 - precision: 0.4292 - recall: 0.0320 - accuracy: 0.0320 - val_loss: 0.6835 - val_fn: 13508.0000 - val_fp: 0.0000e+00 - val_tn: 17664.0000 - val_tp: 0.0000e+00 - val_precision: 0.0000e+00 - val_recall: 0.0000e+00 - val_accuracy: 0.0000e+00\n",
      "Epoch 2/100\n",
      "7274/7274 [==============================] - 9s 1ms/step - loss: 0.6753 - fn: 31516.0000 - fp: 17.0000 - tn: 41198.0000 - tp: 1.0000 - precision: 0.0556 - recall: 3.1729e-05 - accuracy: 3.1729e-05 - val_loss: 0.6130 - val_fn: 13508.0000 - val_fp: 0.0000e+00 - val_tn: 17664.0000 - val_tp: 0.0000e+00 - val_precision: 0.0000e+00 - val_recall: 0.0000e+00 - val_accuracy: 0.0000e+00\n",
      "Epoch 3/100\n",
      "7274/7274 [==============================] - 9s 1ms/step - loss: 0.6030 - fn: 8942.0000 - fp: 15207.0000 - tn: 26008.0000 - tp: 22575.0000 - precision: 0.5975 - recall: 0.7163 - accuracy: 0.7163 - val_loss: 0.4984 - val_fn: 2371.0000 - val_fp: 3228.0000 - val_tn: 14436.0000 - val_tp: 11137.0000 - val_precision: 0.7753 - val_recall: 0.8245 - val_accuracy: 0.8245\n",
      "Epoch 4/100\n",
      "7274/7274 [==============================] - 9s 1ms/step - loss: 0.5446 - fn: 4996.0000 - fp: 13118.0000 - tn: 28097.0000 - tp: 26521.0000 - precision: 0.6691 - recall: 0.8415 - accuracy: 0.8415 - val_loss: 0.4771 - val_fn: 1713.0000 - val_fp: 3485.0000 - val_tn: 14179.0000 - val_tp: 11795.0000 - val_precision: 0.7719 - val_recall: 0.8732 - val_accuracy: 0.8732\n",
      "Epoch 5/100\n",
      "7274/7274 [==============================] - 9s 1ms/step - loss: 0.5175 - fn: 4886.0000 - fp: 11501.0000 - tn: 29714.0000 - tp: 26631.0000 - precision: 0.6984 - recall: 0.8450 - accuracy: 0.8450 - val_loss: 0.4628 - val_fn: 1531.0000 - val_fp: 3951.0000 - val_tn: 13713.0000 - val_tp: 11977.0000 - val_precision: 0.7519 - val_recall: 0.8867 - val_accuracy: 0.8867\n",
      "Epoch 6/100\n",
      "7274/7274 [==============================] - 9s 1ms/step - loss: 0.4890 - fn: 4956.0000 - fp: 9942.0000 - tn: 31273.0000 - tp: 26561.0000 - precision: 0.7276 - recall: 0.8428 - accuracy: 0.8428 - val_loss: 0.4116 - val_fn: 2036.0000 - val_fp: 2497.0000 - val_tn: 15167.0000 - val_tp: 11472.0000 - val_precision: 0.8212 - val_recall: 0.8493 - val_accuracy: 0.8493\n",
      "Epoch 7/100\n",
      "7274/7274 [==============================] - 9s 1ms/step - loss: 0.4764 - fn: 4801.0000 - fp: 9449.0000 - tn: 31766.0000 - tp: 26716.0000 - precision: 0.7387 - recall: 0.8477 - accuracy: 0.8477 - val_loss: 0.4034 - val_fn: 2082.0000 - val_fp: 2414.0000 - val_tn: 15250.0000 - val_tp: 11426.0000 - val_precision: 0.8256 - val_recall: 0.8459 - val_accuracy: 0.8459\n",
      "Epoch 8/100\n",
      "7274/7274 [==============================] - 9s 1ms/step - loss: 0.4671 - fn: 4846.0000 - fp: 9092.0000 - tn: 32123.0000 - tp: 26671.0000 - precision: 0.7458 - recall: 0.8462 - accuracy: 0.8462 - val_loss: 0.4354 - val_fn: 1381.0000 - val_fp: 4042.0000 - val_tn: 13622.0000 - val_tp: 12127.0000 - val_precision: 0.7500 - val_recall: 0.8978 - val_accuracy: 0.8978\n",
      "Epoch 9/100\n",
      "7274/7274 [==============================] - 9s 1ms/step - loss: 0.4501 - fn: 4913.0000 - fp: 8164.0000 - tn: 33051.0000 - tp: 26604.0000 - precision: 0.7652 - recall: 0.8441 - accuracy: 0.8441 - val_loss: 0.3912 - val_fn: 2151.0000 - val_fp: 2166.0000 - val_tn: 15498.0000 - val_tp: 11357.0000 - val_precision: 0.8398 - val_recall: 0.8408 - val_accuracy: 0.8408\n",
      "Epoch 10/100\n",
      "7274/7274 [==============================] - 9s 1ms/step - loss: 0.4420 - fn: 4918.0000 - fp: 7626.0000 - tn: 33589.0000 - tp: 26599.0000 - precision: 0.7772 - recall: 0.8440 - accuracy: 0.8440 - val_loss: 0.3865 - val_fn: 1708.0000 - val_fp: 3159.0000 - val_tn: 14505.0000 - val_tp: 11800.0000 - val_precision: 0.7888 - val_recall: 0.8736 - val_accuracy: 0.8736\n",
      "Epoch 11/100\n",
      "7274/7274 [==============================] - 9s 1ms/step - loss: 0.4376 - fn: 4823.0000 - fp: 7470.0000 - tn: 33745.0000 - tp: 26694.0000 - precision: 0.7813 - recall: 0.8470 - accuracy: 0.8470 - val_loss: 0.3745 - val_fn: 1894.0000 - val_fp: 2482.0000 - val_tn: 15182.0000 - val_tp: 11614.0000 - val_precision: 0.8239 - val_recall: 0.8598 - val_accuracy: 0.8598\n",
      "Epoch 12/100\n",
      "7274/7274 [==============================] - 9s 1ms/step - loss: 0.4282 - fn: 4746.0000 - fp: 7357.0000 - tn: 33858.0000 - tp: 26771.0000 - precision: 0.7844 - recall: 0.8494 - accuracy: 0.8494 - val_loss: 0.3695 - val_fn: 1892.0000 - val_fp: 2603.0000 - val_tn: 15061.0000 - val_tp: 11616.0000 - val_precision: 0.8169 - val_recall: 0.8599 - val_accuracy: 0.8599\n",
      "Epoch 13/100\n",
      "7274/7274 [==============================] - 9s 1ms/step - loss: 0.3962 - fn: 4164.0000 - fp: 7384.0000 - tn: 33831.0000 - tp: 27353.0000 - precision: 0.7874 - recall: 0.8679 - accuracy: 0.8679 - val_loss: 0.3229 - val_fn: 1413.0000 - val_fp: 2639.0000 - val_tn: 15025.0000 - val_tp: 12095.0000 - val_precision: 0.8209 - val_recall: 0.8954 - val_accuracy: 0.8954\n",
      "Epoch 14/100\n",
      "7274/7274 [==============================] - 9s 1ms/step - loss: 0.3592 - fn: 3225.0000 - fp: 7133.0000 - tn: 34082.0000 - tp: 28292.0000 - precision: 0.7986 - recall: 0.8977 - accuracy: 0.8977 - val_loss: 0.3039 - val_fn: 1036.0000 - val_fp: 2788.0000 - val_tn: 14876.0000 - val_tp: 12472.0000 - val_precision: 0.8173 - val_recall: 0.9233 - val_accuracy: 0.9233\n",
      "Epoch 15/100\n",
      "7274/7274 [==============================] - 9s 1ms/step - loss: 0.3352 - fn: 2804.0000 - fp: 6796.0000 - tn: 34419.0000 - tp: 28713.0000 - precision: 0.8086 - recall: 0.9110 - accuracy: 0.9110 - val_loss: 0.3106 - val_fn: 938.0000 - val_fp: 3110.0000 - val_tn: 14554.0000 - val_tp: 12570.0000 - val_precision: 0.8017 - val_recall: 0.9306 - val_accuracy: 0.9306\n",
      "Epoch 16/100\n",
      "7274/7274 [==============================] - 9s 1ms/step - loss: 0.3159 - fn: 2770.0000 - fp: 6257.0000 - tn: 34958.0000 - tp: 28747.0000 - precision: 0.8212 - recall: 0.9121 - accuracy: 0.9121 - val_loss: 0.3559 - val_fn: 577.0000 - val_fp: 4792.0000 - val_tn: 12872.0000 - val_tp: 12931.0000 - val_precision: 0.7296 - val_recall: 0.9573 - val_accuracy: 0.9573\n",
      "Epoch 17/100\n",
      "7274/7274 [==============================] - 9s 1ms/step - loss: 0.3057 - fn: 2750.0000 - fp: 5898.0000 - tn: 35317.0000 - tp: 28767.0000 - precision: 0.8299 - recall: 0.9127 - accuracy: 0.9127 - val_loss: 0.2791 - val_fn: 1108.0000 - val_fp: 2419.0000 - val_tn: 15245.0000 - val_tp: 12400.0000 - val_precision: 0.8368 - val_recall: 0.9180 - val_accuracy: 0.9180\n",
      "Epoch 18/100\n",
      "7274/7274 [==============================] - 9s 1ms/step - loss: 0.3003 - fn: 2833.0000 - fp: 5702.0000 - tn: 35513.0000 - tp: 28684.0000 - precision: 0.8342 - recall: 0.9101 - accuracy: 0.9101 - val_loss: 0.2999 - val_fn: 1509.0000 - val_fp: 1985.0000 - val_tn: 15679.0000 - val_tp: 11999.0000 - val_precision: 0.8581 - val_recall: 0.8883 - val_accuracy: 0.8883\n",
      "Epoch 19/100\n",
      "7274/7274 [==============================] - 9s 1ms/step - loss: 0.2860 - fn: 2749.0000 - fp: 5485.0000 - tn: 35730.0000 - tp: 28768.0000 - precision: 0.8399 - recall: 0.9128 - accuracy: 0.9128 - val_loss: 0.2505 - val_fn: 1867.0000 - val_fp: 1060.0000 - val_tn: 16604.0000 - val_tp: 11641.0000 - val_precision: 0.9165 - val_recall: 0.8618 - val_accuracy: 0.8618\n",
      "Epoch 20/100\n",
      "7274/7274 [==============================] - 9s 1ms/step - loss: 0.2820 - fn: 2762.0000 - fp: 5468.0000 - tn: 35747.0000 - tp: 28755.0000 - precision: 0.8402 - recall: 0.9124 - accuracy: 0.9124 - val_loss: 0.2969 - val_fn: 632.0000 - val_fp: 3447.0000 - val_tn: 14217.0000 - val_tp: 12876.0000 - val_precision: 0.7888 - val_recall: 0.9532 - val_accuracy: 0.9532\n",
      "Epoch 21/100\n",
      "7274/7274 [==============================] - 9s 1ms/step - loss: 0.2824 - fn: 2688.0000 - fp: 5419.0000 - tn: 35796.0000 - tp: 28829.0000 - precision: 0.8418 - recall: 0.9147 - accuracy: 0.9147 - val_loss: 0.2286 - val_fn: 1229.0000 - val_fp: 1477.0000 - val_tn: 16187.0000 - val_tp: 12279.0000 - val_precision: 0.8926 - val_recall: 0.9090 - val_accuracy: 0.9090\n",
      "Epoch 22/100\n",
      "7274/7274 [==============================] - 9s 1ms/step - loss: 0.2748 - fn: 2639.0000 - fp: 5376.0000 - tn: 35839.0000 - tp: 28878.0000 - precision: 0.8431 - recall: 0.9163 - accuracy: 0.9163 - val_loss: 0.2356 - val_fn: 925.0000 - val_fp: 2142.0000 - val_tn: 15522.0000 - val_tp: 12583.0000 - val_precision: 0.8545 - val_recall: 0.9315 - val_accuracy: 0.9315\n",
      "Epoch 23/100\n",
      "7274/7274 [==============================] - 9s 1ms/step - loss: 0.2724 - fn: 2658.0000 - fp: 5282.0000 - tn: 35933.0000 - tp: 28859.0000 - precision: 0.8453 - recall: 0.9157 - accuracy: 0.9157 - val_loss: 0.2727 - val_fn: 634.0000 - val_fp: 2934.0000 - val_tn: 14730.0000 - val_tp: 12874.0000 - val_precision: 0.8144 - val_recall: 0.9531 - val_accuracy: 0.9531\n",
      "Epoch 24/100\n",
      "7274/7274 [==============================] - 9s 1ms/step - loss: 0.2718 - fn: 2710.0000 - fp: 5240.0000 - tn: 35975.0000 - tp: 28807.0000 - precision: 0.8461 - recall: 0.9140 - accuracy: 0.9140 - val_loss: 0.2273 - val_fn: 1076.0000 - val_fp: 1654.0000 - val_tn: 16010.0000 - val_tp: 12432.0000 - val_precision: 0.8826 - val_recall: 0.9203 - val_accuracy: 0.9203\n",
      "Epoch 25/100\n",
      "7274/7274 [==============================] - 9s 1ms/step - loss: 0.2645 - fn: 2583.0000 - fp: 5072.0000 - tn: 36143.0000 - tp: 28934.0000 - precision: 0.8508 - recall: 0.9180 - accuracy: 0.9180 - val_loss: 0.2153 - val_fn: 831.0000 - val_fp: 2081.0000 - val_tn: 15583.0000 - val_tp: 12677.0000 - val_precision: 0.8590 - val_recall: 0.9385 - val_accuracy: 0.9385\n",
      "Epoch 26/100\n",
      "7274/7274 [==============================] - 9s 1ms/step - loss: 0.2656 - fn: 2591.0000 - fp: 5096.0000 - tn: 36119.0000 - tp: 28926.0000 - precision: 0.8502 - recall: 0.9178 - accuracy: 0.9178 - val_loss: 0.2291 - val_fn: 1263.0000 - val_fp: 1276.0000 - val_tn: 16388.0000 - val_tp: 12245.0000 - val_precision: 0.9056 - val_recall: 0.9065 - val_accuracy: 0.9065\n",
      "Epoch 27/100\n",
      "7274/7274 [==============================] - 9s 1ms/step - loss: 0.2642 - fn: 2597.0000 - fp: 5073.0000 - tn: 36142.0000 - tp: 28920.0000 - precision: 0.8508 - recall: 0.9176 - accuracy: 0.9176 - val_loss: 0.2398 - val_fn: 1147.0000 - val_fp: 1598.0000 - val_tn: 16066.0000 - val_tp: 12361.0000 - val_precision: 0.8855 - val_recall: 0.9151 - val_accuracy: 0.9151\n",
      "Epoch 28/100\n",
      "7274/7274 [==============================] - 9s 1ms/step - loss: 0.2599 - fn: 2540.0000 - fp: 4997.0000 - tn: 36218.0000 - tp: 28977.0000 - precision: 0.8529 - recall: 0.9194 - accuracy: 0.9194 - val_loss: 0.2143 - val_fn: 1548.0000 - val_fp: 980.0000 - val_tn: 16684.0000 - val_tp: 11960.0000 - val_precision: 0.9243 - val_recall: 0.8854 - val_accuracy: 0.8854\n",
      "Epoch 29/100\n",
      "7274/7274 [==============================] - 9s 1ms/step - loss: 0.2590 - fn: 2626.0000 - fp: 5003.0000 - tn: 36212.0000 - tp: 28891.0000 - precision: 0.8524 - recall: 0.9167 - accuracy: 0.9167 - val_loss: 0.2330 - val_fn: 1112.0000 - val_fp: 1565.0000 - val_tn: 16099.0000 - val_tp: 12396.0000 - val_precision: 0.8879 - val_recall: 0.9177 - val_accuracy: 0.9177\n",
      "Epoch 30/100\n",
      "7274/7274 [==============================] - 9s 1ms/step - loss: 0.2590 - fn: 2574.0000 - fp: 4963.0000 - tn: 36252.0000 - tp: 28943.0000 - precision: 0.8536 - recall: 0.9183 - accuracy: 0.9183 - val_loss: 0.2621 - val_fn: 2045.0000 - val_fp: 964.0000 - val_tn: 16700.0000 - val_tp: 11463.0000 - val_precision: 0.9224 - val_recall: 0.8486 - val_accuracy: 0.8486\n",
      "Epoch 31/100\n",
      "7274/7274 [==============================] - 9s 1ms/step - loss: 0.2630 - fn: 2558.0000 - fp: 5003.0000 - tn: 36212.0000 - tp: 28959.0000 - precision: 0.8527 - recall: 0.9188 - accuracy: 0.9188 - val_loss: 0.2174 - val_fn: 1236.0000 - val_fp: 1239.0000 - val_tn: 16425.0000 - val_tp: 12272.0000 - val_precision: 0.9083 - val_recall: 0.9085 - val_accuracy: 0.9085\n",
      "Epoch 32/100\n",
      "7274/7274 [==============================] - 9s 1ms/step - loss: 0.2549 - fn: 2549.0000 - fp: 4861.0000 - tn: 36354.0000 - tp: 28968.0000 - precision: 0.8563 - recall: 0.9191 - accuracy: 0.9191 - val_loss: 0.2628 - val_fn: 1983.0000 - val_fp: 790.0000 - val_tn: 16874.0000 - val_tp: 11525.0000 - val_precision: 0.9359 - val_recall: 0.8532 - val_accuracy: 0.8532\n",
      "Epoch 33/100\n",
      "7274/7274 [==============================] - 9s 1ms/step - loss: 0.2582 - fn: 2576.0000 - fp: 4885.0000 - tn: 36330.0000 - tp: 28941.0000 - precision: 0.8556 - recall: 0.9183 - accuracy: 0.9183 - val_loss: 0.2389 - val_fn: 834.0000 - val_fp: 2093.0000 - val_tn: 15571.0000 - val_tp: 12674.0000 - val_precision: 0.8583 - val_recall: 0.9383 - val_accuracy: 0.9383\n",
      "Epoch 34/100\n",
      "7274/7274 [==============================] - 9s 1ms/step - loss: 0.2568 - fn: 2549.0000 - fp: 4906.0000 - tn: 36309.0000 - tp: 28968.0000 - precision: 0.8552 - recall: 0.9191 - accuracy: 0.9191 - val_loss: 0.2307 - val_fn: 811.0000 - val_fp: 1933.0000 - val_tn: 15731.0000 - val_tp: 12697.0000 - val_precision: 0.8679 - val_recall: 0.9400 - val_accuracy: 0.9400\n",
      "Epoch 35/100\n",
      "7274/7274 [==============================] - 9s 1ms/step - loss: 0.2554 - fn: 2531.0000 - fp: 4895.0000 - tn: 36320.0000 - tp: 28986.0000 - precision: 0.8555 - recall: 0.9197 - accuracy: 0.9197 - val_loss: 0.2111 - val_fn: 1010.0000 - val_fp: 1437.0000 - val_tn: 16227.0000 - val_tp: 12498.0000 - val_precision: 0.8969 - val_recall: 0.9252 - val_accuracy: 0.9252\n",
      "Epoch 36/100\n",
      "7274/7274 [==============================] - 9s 1ms/step - loss: 0.2525 - fn: 2520.0000 - fp: 4812.0000 - tn: 36403.0000 - tp: 28997.0000 - precision: 0.8577 - recall: 0.9200 - accuracy: 0.9200 - val_loss: 0.2188 - val_fn: 1327.0000 - val_fp: 1142.0000 - val_tn: 16522.0000 - val_tp: 12181.0000 - val_precision: 0.9143 - val_recall: 0.9018 - val_accuracy: 0.9018\n",
      "Epoch 37/100\n",
      "7274/7274 [==============================] - 9s 1ms/step - loss: 0.2545 - fn: 2603.0000 - fp: 4724.0000 - tn: 36491.0000 - tp: 28914.0000 - precision: 0.8596 - recall: 0.9174 - accuracy: 0.9174 - val_loss: 0.2156 - val_fn: 1042.0000 - val_fp: 1511.0000 - val_tn: 16153.0000 - val_tp: 12466.0000 - val_precision: 0.8919 - val_recall: 0.9229 - val_accuracy: 0.9229\n",
      "Epoch 38/100\n",
      "7274/7274 [==============================] - 9s 1ms/step - loss: 0.2517 - fn: 2538.0000 - fp: 4752.0000 - tn: 36463.0000 - tp: 28979.0000 - precision: 0.8591 - recall: 0.9195 - accuracy: 0.9195 - val_loss: 0.2412 - val_fn: 1901.0000 - val_fp: 738.0000 - val_tn: 16926.0000 - val_tp: 11607.0000 - val_precision: 0.9402 - val_recall: 0.8593 - val_accuracy: 0.8593\n",
      "Epoch 39/100\n",
      "7274/7274 [==============================] - 9s 1ms/step - loss: 0.2497 - fn: 2467.0000 - fp: 4688.0000 - tn: 36527.0000 - tp: 29050.0000 - precision: 0.8610 - recall: 0.9217 - accuracy: 0.9217 - val_loss: 0.2243 - val_fn: 749.0000 - val_fp: 2092.0000 - val_tn: 15572.0000 - val_tp: 12759.0000 - val_precision: 0.8591 - val_recall: 0.9446 - val_accuracy: 0.9446\n",
      "Epoch 40/100\n",
      "7274/7274 [==============================] - 9s 1ms/step - loss: 0.2484 - fn: 2508.0000 - fp: 4691.0000 - tn: 36524.0000 - tp: 29009.0000 - precision: 0.8608 - recall: 0.9204 - accuracy: 0.9204 - val_loss: 0.2161 - val_fn: 1720.0000 - val_fp: 777.0000 - val_tn: 16887.0000 - val_tp: 11788.0000 - val_precision: 0.9382 - val_recall: 0.8727 - val_accuracy: 0.8727\n",
      "Epoch 41/100\n",
      "7274/7274 [==============================] - 9s 1ms/step - loss: 0.2483 - fn: 2498.0000 - fp: 4656.0000 - tn: 36559.0000 - tp: 29019.0000 - precision: 0.8617 - recall: 0.9207 - accuracy: 0.9207 - val_loss: 0.2204 - val_fn: 1594.0000 - val_fp: 837.0000 - val_tn: 16827.0000 - val_tp: 11914.0000 - val_precision: 0.9344 - val_recall: 0.8820 - val_accuracy: 0.8820\n",
      "Epoch 42/100\n",
      "7274/7274 [==============================] - 9s 1ms/step - loss: 0.2480 - fn: 2486.0000 - fp: 4667.0000 - tn: 36548.0000 - tp: 29031.0000 - precision: 0.8615 - recall: 0.9211 - accuracy: 0.9211 - val_loss: 0.2264 - val_fn: 777.0000 - val_fp: 2043.0000 - val_tn: 15621.0000 - val_tp: 12731.0000 - val_precision: 0.8617 - val_recall: 0.9425 - val_accuracy: 0.9425\n",
      "Epoch 43/100\n",
      "7274/7274 [==============================] - 9s 1ms/step - loss: 0.2493 - fn: 2459.0000 - fp: 4735.0000 - tn: 36480.0000 - tp: 29058.0000 - precision: 0.8599 - recall: 0.9220 - accuracy: 0.9220 - val_loss: 0.2229 - val_fn: 1143.0000 - val_fp: 1252.0000 - val_tn: 16412.0000 - val_tp: 12365.0000 - val_precision: 0.9081 - val_recall: 0.9154 - val_accuracy: 0.9154\n",
      "Epoch 44/100\n",
      "7274/7274 [==============================] - 9s 1ms/step - loss: 0.2547 - fn: 2527.0000 - fp: 4699.0000 - tn: 36516.0000 - tp: 28990.0000 - precision: 0.8605 - recall: 0.9198 - accuracy: 0.9198 - val_loss: 0.2221 - val_fn: 1257.0000 - val_fp: 1214.0000 - val_tn: 16450.0000 - val_tp: 12251.0000 - val_precision: 0.9098 - val_recall: 0.9069 - val_accuracy: 0.9069\n",
      "Epoch 45/100\n",
      "7274/7274 [==============================] - 9s 1ms/step - loss: 0.2447 - fn: 2498.0000 - fp: 4551.0000 - tn: 36664.0000 - tp: 29019.0000 - precision: 0.8644 - recall: 0.9207 - accuracy: 0.9207 - val_loss: 0.2393 - val_fn: 1415.0000 - val_fp: 1099.0000 - val_tn: 16565.0000 - val_tp: 12093.0000 - val_precision: 0.9167 - val_recall: 0.8952 - val_accuracy: 0.8952\n",
      "Epoch 46/100\n",
      "7274/7274 [==============================] - 9s 1ms/step - loss: 0.2424 - fn: 2518.0000 - fp: 4515.0000 - tn: 36700.0000 - tp: 28999.0000 - precision: 0.8653 - recall: 0.9201 - accuracy: 0.9201 - val_loss: 0.2021 - val_fn: 937.0000 - val_fp: 1477.0000 - val_tn: 16187.0000 - val_tp: 12571.0000 - val_precision: 0.8949 - val_recall: 0.9306 - val_accuracy: 0.9306\n",
      "Epoch 47/100\n",
      "7274/7274 [==============================] - 9s 1ms/step - loss: 0.2498 - fn: 2548.0000 - fp: 4652.0000 - tn: 36563.0000 - tp: 28969.0000 - precision: 0.8616 - recall: 0.9192 - accuracy: 0.9192 - val_loss: 0.2321 - val_fn: 1377.0000 - val_fp: 1145.0000 - val_tn: 16519.0000 - val_tp: 12131.0000 - val_precision: 0.9138 - val_recall: 0.8981 - val_accuracy: 0.8981\n",
      "Epoch 48/100\n",
      "7274/7274 [==============================] - 9s 1ms/step - loss: 0.2453 - fn: 2528.0000 - fp: 4589.0000 - tn: 36626.0000 - tp: 28989.0000 - precision: 0.8633 - recall: 0.9198 - accuracy: 0.9198 - val_loss: 0.2003 - val_fn: 937.0000 - val_fp: 1540.0000 - val_tn: 16124.0000 - val_tp: 12571.0000 - val_precision: 0.8909 - val_recall: 0.9306 - val_accuracy: 0.9306\n",
      "Epoch 49/100\n",
      "7274/7274 [==============================] - 9s 1ms/step - loss: 0.2439 - fn: 2452.0000 - fp: 4523.0000 - tn: 36692.0000 - tp: 29065.0000 - precision: 0.8653 - recall: 0.9222 - accuracy: 0.9222 - val_loss: 0.2938 - val_fn: 1763.0000 - val_fp: 1207.0000 - val_tn: 16457.0000 - val_tp: 11745.0000 - val_precision: 0.9068 - val_recall: 0.8695 - val_accuracy: 0.8695\n",
      "Epoch 50/100\n",
      "7274/7274 [==============================] - 9s 1ms/step - loss: 0.2400 - fn: 2461.0000 - fp: 4416.0000 - tn: 36799.0000 - tp: 29056.0000 - precision: 0.8681 - recall: 0.9219 - accuracy: 0.9219 - val_loss: 0.2158 - val_fn: 776.0000 - val_fp: 2024.0000 - val_tn: 15640.0000 - val_tp: 12732.0000 - val_precision: 0.8628 - val_recall: 0.9426 - val_accuracy: 0.9426\n",
      "Epoch 51/100\n",
      "7274/7274 [==============================] - 9s 1ms/step - loss: 0.2422 - fn: 2470.0000 - fp: 4394.0000 - tn: 36821.0000 - tp: 29047.0000 - precision: 0.8686 - recall: 0.9216 - accuracy: 0.9216 - val_loss: 0.2197 - val_fn: 1255.0000 - val_fp: 1098.0000 - val_tn: 16566.0000 - val_tp: 12253.0000 - val_precision: 0.9178 - val_recall: 0.9071 - val_accuracy: 0.9071\n",
      "Epoch 52/100\n",
      "7274/7274 [==============================] - 9s 1ms/step - loss: 0.2428 - fn: 2478.0000 - fp: 4470.0000 - tn: 36745.0000 - tp: 29039.0000 - precision: 0.8666 - recall: 0.9214 - accuracy: 0.9214 - val_loss: 0.1965 - val_fn: 1084.0000 - val_fp: 1264.0000 - val_tn: 16400.0000 - val_tp: 12424.0000 - val_precision: 0.9077 - val_recall: 0.9198 - val_accuracy: 0.9198\n",
      "Epoch 53/100\n",
      "7274/7274 [==============================] - 9s 1ms/step - loss: 0.2418 - fn: 2434.0000 - fp: 4412.0000 - tn: 36803.0000 - tp: 29083.0000 - precision: 0.8683 - recall: 0.9228 - accuracy: 0.9228 - val_loss: 0.2498 - val_fn: 1736.0000 - val_fp: 808.0000 - val_tn: 16856.0000 - val_tp: 11772.0000 - val_precision: 0.9358 - val_recall: 0.8715 - val_accuracy: 0.8715\n",
      "Epoch 54/100\n",
      "7274/7274 [==============================] - 9s 1ms/step - loss: 0.2386 - fn: 2483.0000 - fp: 4375.0000 - tn: 36840.0000 - tp: 29034.0000 - precision: 0.8690 - recall: 0.9212 - accuracy: 0.9212 - val_loss: 0.2169 - val_fn: 1238.0000 - val_fp: 1085.0000 - val_tn: 16579.0000 - val_tp: 12270.0000 - val_precision: 0.9188 - val_recall: 0.9084 - val_accuracy: 0.9084\n",
      "Epoch 55/100\n",
      "7274/7274 [==============================] - 9s 1ms/step - loss: 0.2408 - fn: 2478.0000 - fp: 4434.0000 - tn: 36781.0000 - tp: 29039.0000 - precision: 0.8675 - recall: 0.9214 - accuracy: 0.9214 - val_loss: 0.2478 - val_fn: 1896.0000 - val_fp: 773.0000 - val_tn: 16891.0000 - val_tp: 11612.0000 - val_precision: 0.9376 - val_recall: 0.8596 - val_accuracy: 0.8596\n",
      "Epoch 56/100\n",
      "7274/7274 [==============================] - 9s 1ms/step - loss: 0.2421 - fn: 2513.0000 - fp: 4363.0000 - tn: 36852.0000 - tp: 29004.0000 - precision: 0.8692 - recall: 0.9203 - accuracy: 0.9203 - val_loss: 0.2238 - val_fn: 1641.0000 - val_fp: 806.0000 - val_tn: 16858.0000 - val_tp: 11867.0000 - val_precision: 0.9364 - val_recall: 0.8785 - val_accuracy: 0.8785\n",
      "Epoch 57/100\n",
      "7274/7274 [==============================] - 9s 1ms/step - loss: 0.2374 - fn: 2468.0000 - fp: 4296.0000 - tn: 36919.0000 - tp: 29049.0000 - precision: 0.8712 - recall: 0.9217 - accuracy: 0.9217 - val_loss: 0.2168 - val_fn: 930.0000 - val_fp: 1640.0000 - val_tn: 16024.0000 - val_tp: 12578.0000 - val_precision: 0.8847 - val_recall: 0.9312 - val_accuracy: 0.9312\n",
      "Epoch 58/100\n",
      "7274/7274 [==============================] - 9s 1ms/step - loss: 0.2389 - fn: 2422.0000 - fp: 4309.0000 - tn: 36906.0000 - tp: 29095.0000 - precision: 0.8710 - recall: 0.9232 - accuracy: 0.9232 - val_loss: 0.2079 - val_fn: 1016.0000 - val_fp: 1314.0000 - val_tn: 16350.0000 - val_tp: 12492.0000 - val_precision: 0.9048 - val_recall: 0.9248 - val_accuracy: 0.9248\n",
      "Epoch 59/100\n",
      "7274/7274 [==============================] - 9s 1ms/step - loss: 0.2381 - fn: 2452.0000 - fp: 4345.0000 - tn: 36870.0000 - tp: 29065.0000 - precision: 0.8699 - recall: 0.9222 - accuracy: 0.9222 - val_loss: 0.2067 - val_fn: 1334.0000 - val_fp: 885.0000 - val_tn: 16779.0000 - val_tp: 12174.0000 - val_precision: 0.9322 - val_recall: 0.9012 - val_accuracy: 0.9012\n",
      "Epoch 60/100\n",
      "7274/7274 [==============================] - 9s 1ms/step - loss: 0.2365 - fn: 2483.0000 - fp: 4273.0000 - tn: 36942.0000 - tp: 29034.0000 - precision: 0.8717 - recall: 0.9212 - accuracy: 0.9212 - val_loss: 0.2040 - val_fn: 1224.0000 - val_fp: 997.0000 - val_tn: 16667.0000 - val_tp: 12284.0000 - val_precision: 0.9249 - val_recall: 0.9094 - val_accuracy: 0.9094\n",
      "Epoch 61/100\n",
      "7274/7274 [==============================] - 9s 1ms/step - loss: 0.2365 - fn: 2486.0000 - fp: 4276.0000 - tn: 36939.0000 - tp: 29031.0000 - precision: 0.8716 - recall: 0.9211 - accuracy: 0.9211 - val_loss: 0.2051 - val_fn: 1375.0000 - val_fp: 822.0000 - val_tn: 16842.0000 - val_tp: 12133.0000 - val_precision: 0.9365 - val_recall: 0.8982 - val_accuracy: 0.8982\n",
      "Epoch 62/100\n",
      "7274/7274 [==============================] - 9s 1ms/step - loss: 0.2325 - fn: 2463.0000 - fp: 4131.0000 - tn: 37084.0000 - tp: 29054.0000 - precision: 0.8755 - recall: 0.9219 - accuracy: 0.9219 - val_loss: 0.2582 - val_fn: 2226.0000 - val_fp: 581.0000 - val_tn: 17083.0000 - val_tp: 11282.0000 - val_precision: 0.9510 - val_recall: 0.8352 - val_accuracy: 0.8352\n",
      "Epoch 63/100\n",
      "7274/7274 [==============================] - 9s 1ms/step - loss: 0.2367 - fn: 2494.0000 - fp: 4258.0000 - tn: 36957.0000 - tp: 29023.0000 - precision: 0.8721 - recall: 0.9209 - accuracy: 0.9209 - val_loss: 0.1967 - val_fn: 1112.0000 - val_fp: 1029.0000 - val_tn: 16635.0000 - val_tp: 12396.0000 - val_precision: 0.9234 - val_recall: 0.9177 - val_accuracy: 0.9177\n",
      "Epoch 64/100\n",
      "7274/7274 [==============================] - 9s 1ms/step - loss: 0.2340 - fn: 2471.0000 - fp: 4129.0000 - tn: 37086.0000 - tp: 29046.0000 - precision: 0.8755 - recall: 0.9216 - accuracy: 0.9216 - val_loss: 0.2184 - val_fn: 1127.0000 - val_fp: 1430.0000 - val_tn: 16234.0000 - val_tp: 12381.0000 - val_precision: 0.8965 - val_recall: 0.9166 - val_accuracy: 0.9166\n",
      "Epoch 65/100\n",
      "7274/7274 [==============================] - 9s 1ms/step - loss: 0.2363 - fn: 2516.0000 - fp: 4137.0000 - tn: 37078.0000 - tp: 29001.0000 - precision: 0.8752 - recall: 0.9202 - accuracy: 0.9202 - val_loss: 0.2398 - val_fn: 1241.0000 - val_fp: 1375.0000 - val_tn: 16289.0000 - val_tp: 12267.0000 - val_precision: 0.8992 - val_recall: 0.9081 - val_accuracy: 0.9081\n",
      "Epoch 66/100\n",
      "7274/7274 [==============================] - 9s 1ms/step - loss: 0.2327 - fn: 2471.0000 - fp: 4166.0000 - tn: 37049.0000 - tp: 29046.0000 - precision: 0.8746 - recall: 0.9216 - accuracy: 0.9216 - val_loss: 0.1942 - val_fn: 977.0000 - val_fp: 1199.0000 - val_tn: 16465.0000 - val_tp: 12531.0000 - val_precision: 0.9127 - val_recall: 0.9277 - val_accuracy: 0.9277\n",
      "Epoch 67/100\n",
      "7274/7274 [==============================] - 9s 1ms/step - loss: 0.2303 - fn: 2442.0000 - fp: 4032.0000 - tn: 37183.0000 - tp: 29075.0000 - precision: 0.8782 - recall: 0.9225 - accuracy: 0.9225 - val_loss: 0.2283 - val_fn: 1705.0000 - val_fp: 764.0000 - val_tn: 16900.0000 - val_tp: 11803.0000 - val_precision: 0.9392 - val_recall: 0.8738 - val_accuracy: 0.8738\n",
      "Epoch 68/100\n",
      "7274/7274 [==============================] - 9s 1ms/step - loss: 0.2298 - fn: 2432.0000 - fp: 4034.0000 - tn: 37181.0000 - tp: 29085.0000 - precision: 0.8782 - recall: 0.9228 - accuracy: 0.9228 - val_loss: 0.1941 - val_fn: 1517.0000 - val_fp: 677.0000 - val_tn: 16987.0000 - val_tp: 11991.0000 - val_precision: 0.9466 - val_recall: 0.8877 - val_accuracy: 0.8877\n",
      "Epoch 69/100\n",
      "7274/7274 [==============================] - 9s 1ms/step - loss: 0.2290 - fn: 2431.0000 - fp: 4013.0000 - tn: 37202.0000 - tp: 29086.0000 - precision: 0.8788 - recall: 0.9229 - accuracy: 0.9229 - val_loss: 0.1908 - val_fn: 957.0000 - val_fp: 1318.0000 - val_tn: 16346.0000 - val_tp: 12551.0000 - val_precision: 0.9050 - val_recall: 0.9292 - val_accuracy: 0.9292\n",
      "Epoch 70/100\n",
      "7274/7274 [==============================] - 9s 1ms/step - loss: 0.2287 - fn: 2443.0000 - fp: 4016.0000 - tn: 37199.0000 - tp: 29074.0000 - precision: 0.8786 - recall: 0.9225 - accuracy: 0.9225 - val_loss: 0.2032 - val_fn: 630.0000 - val_fp: 2198.0000 - val_tn: 15466.0000 - val_tp: 12878.0000 - val_precision: 0.8542 - val_recall: 0.9534 - val_accuracy: 0.9534\n",
      "Epoch 71/100\n",
      "7274/7274 [==============================] - 9s 1ms/step - loss: 0.2276 - fn: 2477.0000 - fp: 4007.0000 - tn: 37208.0000 - tp: 29040.0000 - precision: 0.8787 - recall: 0.9214 - accuracy: 0.9214 - val_loss: 0.1802 - val_fn: 842.0000 - val_fp: 1380.0000 - val_tn: 16284.0000 - val_tp: 12666.0000 - val_precision: 0.9018 - val_recall: 0.9377 - val_accuracy: 0.9377\n",
      "Epoch 72/100\n",
      "7274/7274 [==============================] - 9s 1ms/step - loss: 0.2274 - fn: 2420.0000 - fp: 4002.0000 - tn: 37213.0000 - tp: 29097.0000 - precision: 0.8791 - recall: 0.9232 - accuracy: 0.9232 - val_loss: 0.2117 - val_fn: 1267.0000 - val_fp: 952.0000 - val_tn: 16712.0000 - val_tp: 12241.0000 - val_precision: 0.9278 - val_recall: 0.9062 - val_accuracy: 0.9062\n",
      "Epoch 73/100\n",
      "7274/7274 [==============================] - 9s 1ms/step - loss: 0.2267 - fn: 2498.0000 - fp: 3929.0000 - tn: 37286.0000 - tp: 29019.0000 - precision: 0.8808 - recall: 0.9207 - accuracy: 0.9207 - val_loss: 0.1879 - val_fn: 921.0000 - val_fp: 1390.0000 - val_tn: 16274.0000 - val_tp: 12587.0000 - val_precision: 0.9006 - val_recall: 0.9318 - val_accuracy: 0.9318\n",
      "Epoch 74/100\n",
      "7274/7274 [==============================] - 9s 1ms/step - loss: 0.2276 - fn: 2466.0000 - fp: 4006.0000 - tn: 37209.0000 - tp: 29051.0000 - precision: 0.8788 - recall: 0.9218 - accuracy: 0.9218 - val_loss: 0.2083 - val_fn: 842.0000 - val_fp: 1756.0000 - val_tn: 15908.0000 - val_tp: 12666.0000 - val_precision: 0.8782 - val_recall: 0.9377 - val_accuracy: 0.9377\n",
      "Epoch 75/100\n",
      "7274/7274 [==============================] - 9s 1ms/step - loss: 0.2244 - fn: 2435.0000 - fp: 3868.0000 - tn: 37347.0000 - tp: 29082.0000 - precision: 0.8826 - recall: 0.9227 - accuracy: 0.9227 - val_loss: 0.1860 - val_fn: 1007.0000 - val_fp: 1131.0000 - val_tn: 16533.0000 - val_tp: 12501.0000 - val_precision: 0.9170 - val_recall: 0.9255 - val_accuracy: 0.9255\n",
      "Epoch 76/100\n",
      "7274/7274 [==============================] - 9s 1ms/step - loss: 0.2229 - fn: 2381.0000 - fp: 3914.0000 - tn: 37301.0000 - tp: 29136.0000 - precision: 0.8816 - recall: 0.9245 - accuracy: 0.9245 - val_loss: 0.1833 - val_fn: 1363.0000 - val_fp: 757.0000 - val_tn: 16907.0000 - val_tp: 12145.0000 - val_precision: 0.9413 - val_recall: 0.8991 - val_accuracy: 0.8991\n",
      "Epoch 77/100\n",
      "7274/7274 [==============================] - 9s 1ms/step - loss: 0.2263 - fn: 2436.0000 - fp: 3873.0000 - tn: 37342.0000 - tp: 29081.0000 - precision: 0.8825 - recall: 0.9227 - accuracy: 0.9227 - val_loss: 0.2218 - val_fn: 578.0000 - val_fp: 2491.0000 - val_tn: 15173.0000 - val_tp: 12930.0000 - val_precision: 0.8385 - val_recall: 0.9572 - val_accuracy: 0.9572\n",
      "Epoch 78/100\n",
      "7274/7274 [==============================] - 9s 1ms/step - loss: 0.2233 - fn: 2464.0000 - fp: 3771.0000 - tn: 37444.0000 - tp: 29053.0000 - precision: 0.8851 - recall: 0.9218 - accuracy: 0.9218 - val_loss: 0.1882 - val_fn: 1050.0000 - val_fp: 1280.0000 - val_tn: 16384.0000 - val_tp: 12458.0000 - val_precision: 0.9068 - val_recall: 0.9223 - val_accuracy: 0.9223\n",
      "Epoch 79/100\n",
      "7274/7274 [==============================] - 9s 1ms/step - loss: 0.2216 - fn: 2488.0000 - fp: 3884.0000 - tn: 37331.0000 - tp: 29029.0000 - precision: 0.8820 - recall: 0.9211 - accuracy: 0.9211 - val_loss: 0.1847 - val_fn: 980.0000 - val_fp: 1184.0000 - val_tn: 16480.0000 - val_tp: 12528.0000 - val_precision: 0.9137 - val_recall: 0.9275 - val_accuracy: 0.9275\n",
      "Epoch 80/100\n",
      "7274/7274 [==============================] - 9s 1ms/step - loss: 0.2251 - fn: 2463.0000 - fp: 3878.0000 - tn: 37337.0000 - tp: 29054.0000 - precision: 0.8822 - recall: 0.9219 - accuracy: 0.9219 - val_loss: 0.2187 - val_fn: 702.0000 - val_fp: 2293.0000 - val_tn: 15371.0000 - val_tp: 12806.0000 - val_precision: 0.8481 - val_recall: 0.9480 - val_accuracy: 0.9480\n",
      "Epoch 81/100\n",
      "7274/7274 [==============================] - 11s 1ms/step - loss: 0.2200 - fn: 2431.0000 - fp: 3750.0000 - tn: 37465.0000 - tp: 29086.0000 - precision: 0.8858 - recall: 0.9229 - accuracy: 0.9229 - val_loss: 0.1885 - val_fn: 1588.0000 - val_fp: 560.0000 - val_tn: 17104.0000 - val_tp: 11920.0000 - val_precision: 0.9551 - val_recall: 0.8824 - val_accuracy: 0.8824\n",
      "Epoch 82/100\n",
      "7274/7274 [==============================] - 9s 1ms/step - loss: 0.2212 - fn: 2484.0000 - fp: 3751.0000 - tn: 37464.0000 - tp: 29033.0000 - precision: 0.8856 - recall: 0.9212 - accuracy: 0.9212 - val_loss: 0.1912 - val_fn: 1489.0000 - val_fp: 663.0000 - val_tn: 17001.0000 - val_tp: 12019.0000 - val_precision: 0.9477 - val_recall: 0.8898 - val_accuracy: 0.8898\n",
      "Epoch 83/100\n",
      "7274/7274 [==============================] - 9s 1ms/step - loss: 0.2183 - fn: 2503.0000 - fp: 3667.0000 - tn: 37548.0000 - tp: 29014.0000 - precision: 0.8878 - recall: 0.9206 - accuracy: 0.9206 - val_loss: 0.1848 - val_fn: 1253.0000 - val_fp: 837.0000 - val_tn: 16827.0000 - val_tp: 12255.0000 - val_precision: 0.9361 - val_recall: 0.9072 - val_accuracy: 0.9072\n",
      "Epoch 84/100\n",
      "7274/7274 [==============================] - 9s 1ms/step - loss: 0.2184 - fn: 2468.0000 - fp: 3744.0000 - tn: 37471.0000 - tp: 29049.0000 - precision: 0.8858 - recall: 0.9217 - accuracy: 0.9217 - val_loss: 0.2136 - val_fn: 1914.0000 - val_fp: 455.0000 - val_tn: 17209.0000 - val_tp: 11594.0000 - val_precision: 0.9622 - val_recall: 0.8583 - val_accuracy: 0.8583\n",
      "Epoch 85/100\n",
      "7274/7274 [==============================] - 9s 1ms/step - loss: 0.2187 - fn: 2509.0000 - fp: 3676.0000 - tn: 37539.0000 - tp: 29008.0000 - precision: 0.8875 - recall: 0.9204 - accuracy: 0.9204 - val_loss: 0.1832 - val_fn: 936.0000 - val_fp: 1232.0000 - val_tn: 16432.0000 - val_tp: 12572.0000 - val_precision: 0.9108 - val_recall: 0.9307 - val_accuracy: 0.9307\n",
      "Epoch 86/100\n",
      "7274/7274 [==============================] - 9s 1ms/step - loss: 0.2179 - fn: 2422.0000 - fp: 3707.0000 - tn: 37508.0000 - tp: 29095.0000 - precision: 0.8870 - recall: 0.9232 - accuracy: 0.9232 - val_loss: 0.1912 - val_fn: 865.0000 - val_fp: 1556.0000 - val_tn: 16108.0000 - val_tp: 12643.0000 - val_precision: 0.8904 - val_recall: 0.9360 - val_accuracy: 0.9360\n",
      "Epoch 87/100\n",
      "7274/7274 [==============================] - 9s 1ms/step - loss: 0.2165 - fn: 2437.0000 - fp: 3620.0000 - tn: 37595.0000 - tp: 29080.0000 - precision: 0.8893 - recall: 0.9227 - accuracy: 0.9227 - val_loss: 0.2026 - val_fn: 1010.0000 - val_fp: 1565.0000 - val_tn: 16099.0000 - val_tp: 12498.0000 - val_precision: 0.8887 - val_recall: 0.9252 - val_accuracy: 0.9252\n",
      "Epoch 88/100\n",
      "7274/7274 [==============================] - 8s 1ms/step - loss: 0.2180 - fn: 2404.0000 - fp: 3668.0000 - tn: 37547.0000 - tp: 29113.0000 - precision: 0.8881 - recall: 0.9237 - accuracy: 0.9237 - val_loss: 0.1972 - val_fn: 1339.0000 - val_fp: 905.0000 - val_tn: 16759.0000 - val_tp: 12169.0000 - val_precision: 0.9308 - val_recall: 0.9009 - val_accuracy: 0.9009\n",
      "Epoch 89/100\n",
      "7274/7274 [==============================] - 9s 1ms/step - loss: 0.2175 - fn: 2396.0000 - fp: 3660.0000 - tn: 37555.0000 - tp: 29121.0000 - precision: 0.8883 - recall: 0.9240 - accuracy: 0.9240 - val_loss: 0.1748 - val_fn: 1042.0000 - val_fp: 1039.0000 - val_tn: 16625.0000 - val_tp: 12466.0000 - val_precision: 0.9231 - val_recall: 0.9229 - val_accuracy: 0.9229\n",
      "Epoch 90/100\n",
      "7274/7274 [==============================] - 9s 1ms/step - loss: 0.2167 - fn: 2478.0000 - fp: 3695.0000 - tn: 37520.0000 - tp: 29039.0000 - precision: 0.8871 - recall: 0.9214 - accuracy: 0.9214 - val_loss: 0.1843 - val_fn: 1330.0000 - val_fp: 834.0000 - val_tn: 16830.0000 - val_tp: 12178.0000 - val_precision: 0.9359 - val_recall: 0.9015 - val_accuracy: 0.9015\n",
      "Epoch 91/100\n",
      "7274/7274 [==============================] - 9s 1ms/step - loss: 0.2158 - fn: 2439.0000 - fp: 3642.0000 - tn: 37573.0000 - tp: 29078.0000 - precision: 0.8887 - recall: 0.9226 - accuracy: 0.9226 - val_loss: 0.1967 - val_fn: 1653.0000 - val_fp: 555.0000 - val_tn: 17109.0000 - val_tp: 11855.0000 - val_precision: 0.9553 - val_recall: 0.8776 - val_accuracy: 0.8776\n",
      "Epoch 92/100\n",
      "7274/7274 [==============================] - 9s 1ms/step - loss: 0.2123 - fn: 2440.0000 - fp: 3584.0000 - tn: 37631.0000 - tp: 29077.0000 - precision: 0.8903 - recall: 0.9226 - accuracy: 0.9226 - val_loss: 0.1881 - val_fn: 971.0000 - val_fp: 1299.0000 - val_tn: 16365.0000 - val_tp: 12537.0000 - val_precision: 0.9061 - val_recall: 0.9281 - val_accuracy: 0.9281\n",
      "Epoch 93/100\n",
      "7274/7274 [==============================] - 9s 1ms/step - loss: 0.2176 - fn: 2436.0000 - fp: 3646.0000 - tn: 37569.0000 - tp: 29081.0000 - precision: 0.8886 - recall: 0.9227 - accuracy: 0.9227 - val_loss: 0.2366 - val_fn: 646.0000 - val_fp: 2575.0000 - val_tn: 15089.0000 - val_tp: 12862.0000 - val_precision: 0.8332 - val_recall: 0.9522 - val_accuracy: 0.9522\n",
      "Epoch 94/100\n",
      "7274/7274 [==============================] - 9s 1ms/step - loss: 0.2161 - fn: 2498.0000 - fp: 3679.0000 - tn: 37536.0000 - tp: 29019.0000 - precision: 0.8875 - recall: 0.9207 - accuracy: 0.9207 - val_loss: 0.1846 - val_fn: 1087.0000 - val_fp: 1122.0000 - val_tn: 16542.0000 - val_tp: 12421.0000 - val_precision: 0.9172 - val_recall: 0.9195 - val_accuracy: 0.9195\n",
      "Epoch 95/100\n",
      "7274/7274 [==============================] - 9s 1ms/step - loss: 0.2131 - fn: 2426.0000 - fp: 3603.0000 - tn: 37612.0000 - tp: 29091.0000 - precision: 0.8898 - recall: 0.9230 - accuracy: 0.9230 - val_loss: 0.1940 - val_fn: 727.0000 - val_fp: 1814.0000 - val_tn: 15850.0000 - val_tp: 12781.0000 - val_precision: 0.8757 - val_recall: 0.9462 - val_accuracy: 0.9462\n",
      "Epoch 96/100\n",
      "7274/7274 [==============================] - 9s 1ms/step - loss: 0.2166 - fn: 2446.0000 - fp: 3576.0000 - tn: 37639.0000 - tp: 29071.0000 - precision: 0.8905 - recall: 0.9224 - accuracy: 0.9224 - val_loss: 0.1800 - val_fn: 1010.0000 - val_fp: 1157.0000 - val_tn: 16507.0000 - val_tp: 12498.0000 - val_precision: 0.9153 - val_recall: 0.9252 - val_accuracy: 0.9252\n",
      "Epoch 97/100\n",
      "7274/7274 [==============================] - 9s 1ms/step - loss: 0.2158 - fn: 2458.0000 - fp: 3607.0000 - tn: 37608.0000 - tp: 29059.0000 - precision: 0.8896 - recall: 0.9220 - accuracy: 0.9220 - val_loss: 0.1996 - val_fn: 1413.0000 - val_fp: 885.0000 - val_tn: 16779.0000 - val_tp: 12095.0000 - val_precision: 0.9318 - val_recall: 0.8954 - val_accuracy: 0.8954\n",
      "Epoch 98/100\n",
      "7274/7274 [==============================] - 9s 1ms/step - loss: 0.2151 - fn: 2431.0000 - fp: 3652.0000 - tn: 37563.0000 - tp: 29086.0000 - precision: 0.8884 - recall: 0.9229 - accuracy: 0.9229 - val_loss: 0.1835 - val_fn: 852.0000 - val_fp: 1346.0000 - val_tn: 16318.0000 - val_tp: 12656.0000 - val_precision: 0.9039 - val_recall: 0.9369 - val_accuracy: 0.9369\n",
      "Epoch 99/100\n",
      "7274/7274 [==============================] - 9s 1ms/step - loss: 0.2129 - fn: 2439.0000 - fp: 3570.0000 - tn: 37645.0000 - tp: 29078.0000 - precision: 0.8907 - recall: 0.9226 - accuracy: 0.9226 - val_loss: 0.1776 - val_fn: 1155.0000 - val_fp: 943.0000 - val_tn: 16721.0000 - val_tp: 12353.0000 - val_precision: 0.9291 - val_recall: 0.9145 - val_accuracy: 0.9145\n",
      "Epoch 100/100\n",
      "7274/7274 [==============================] - 9s 1ms/step - loss: 0.2136 - fn: 2418.0000 - fp: 3568.0000 - tn: 37647.0000 - tp: 29099.0000 - precision: 0.8908 - recall: 0.9233 - accuracy: 0.9233 - val_loss: 0.2030 - val_fn: 1470.0000 - val_fp: 678.0000 - val_tn: 16986.0000 - val_tp: 12038.0000 - val_precision: 0.9467 - val_recall: 0.8912 - val_accuracy: 0.8912\n"
     ]
    }
   ],
   "source": [
    "##---------Type the code below this line------------------##\n",
    "# fit the keras model on the dataset\n",
    "history = model.fit(x_train,y_train, epochs=100, batch_size=10, validation_data=(x_test, y_test))\n"
   ]
  },
  {
   "cell_type": "markdown",
   "id": "19bd0c56",
   "metadata": {
    "id": "19bd0c56"
   },
   "source": [
    "Justify your choice of optimizers and regulizations used and the hyperparameters tuned\n",
    "\n",
    "Score: 4 Marks"
   ]
  },
  {
   "cell_type": "markdown",
   "id": "7662cdbd",
   "metadata": {
    "id": "7662cdbd"
   },
   "source": [
    "##---------Type the answers below this line------------------##\n",
    "\n",
    "We have used Adam optimizer (Adaptive Moment Estimation) technique for for gradient descent.The method is really efficient when working with large problem involving a lot of data or parameters. It requires less memory and is efficient.\n",
    "\n",
    "we have also used dropout regularization technique as we have a large neural network structure in order to introduce more randomness. At every iteration, it randomly selects some nodes and removes them along with all of their incoming and outgoing connections. So each iteration has a different set of nodes and this results in a different set of outputs. It can also be thought of as an ensemble technique in machine learning."
   ]
  },
  {
   "cell_type": "markdown",
   "id": "06f1173c",
   "metadata": {
    "id": "06f1173c"
   },
   "source": [
    "# 6. Test the model\n",
    "\n",
    "Score: 2 Marks"
   ]
  },
  {
   "cell_type": "markdown",
   "id": "7a8d8a42",
   "metadata": {
    "id": "7a8d8a42"
   },
   "source": [
    "We can use test data as validation data and can check the accuracies after every epoch. This will give us an insight into overfitting at the time of training only and we can take steps before the completion of all epochs"
   ]
  },
  {
   "cell_type": "code",
   "execution_count": 45,
   "id": "IFKOMe-_RFfM",
   "metadata": {
    "colab": {
     "base_uri": "https://localhost:8080/"
    },
    "id": "IFKOMe-_RFfM",
    "outputId": "ddab807f-c62e-4a42-a98a-cd5942ff9d7a"
   },
   "outputs": [
    {
     "name": "stdout",
     "output_type": "stream",
     "text": [
      "Epoch 1/100\n",
      "7274/7274 [==============================] - 9s 1ms/step - loss: 0.2161 - fn: 2491.0000 - fp: 3575.0000 - tn: 37640.0000 - tp: 29026.0000 - precision: 0.8903 - recall: 0.9210 - accuracy: 0.9210 - val_loss: 0.1855 - val_fn: 1257.0000 - val_fp: 794.0000 - val_tn: 16870.0000 - val_tp: 12251.0000 - val_precision: 0.9391 - val_recall: 0.9069 - val_accuracy: 0.9069\n",
      "Epoch 2/100\n",
      "7274/7274 [==============================] - 9s 1ms/step - loss: 0.2117 - fn: 2447.0000 - fp: 3495.0000 - tn: 37720.0000 - tp: 29070.0000 - precision: 0.8927 - recall: 0.9224 - accuracy: 0.9224 - val_loss: 0.1749 - val_fn: 1051.0000 - val_fp: 998.0000 - val_tn: 16666.0000 - val_tp: 12457.0000 - val_precision: 0.9258 - val_recall: 0.9222 - val_accuracy: 0.9222\n",
      "Epoch 3/100\n",
      "7274/7274 [==============================] - 9s 1ms/step - loss: 0.2146 - fn: 2432.0000 - fp: 3643.0000 - tn: 37572.0000 - tp: 29085.0000 - precision: 0.8887 - recall: 0.9228 - accuracy: 0.9228 - val_loss: 0.1938 - val_fn: 1560.0000 - val_fp: 645.0000 - val_tn: 17019.0000 - val_tp: 11948.0000 - val_precision: 0.9488 - val_recall: 0.8845 - val_accuracy: 0.8845\n",
      "Epoch 4/100\n",
      "7274/7274 [==============================] - 9s 1ms/step - loss: 0.2138 - fn: 2410.0000 - fp: 3522.0000 - tn: 37693.0000 - tp: 29107.0000 - precision: 0.8921 - recall: 0.9235 - accuracy: 0.9235 - val_loss: 0.1897 - val_fn: 785.0000 - val_fp: 1627.0000 - val_tn: 16037.0000 - val_tp: 12723.0000 - val_precision: 0.8866 - val_recall: 0.9419 - val_accuracy: 0.9419\n",
      "Epoch 5/100\n",
      "7274/7274 [==============================] - 9s 1ms/step - loss: 0.2107 - fn: 2414.0000 - fp: 3540.0000 - tn: 37675.0000 - tp: 29103.0000 - precision: 0.8916 - recall: 0.9234 - accuracy: 0.9234 - val_loss: 0.1748 - val_fn: 1097.0000 - val_fp: 977.0000 - val_tn: 16687.0000 - val_tp: 12411.0000 - val_precision: 0.9270 - val_recall: 0.9188 - val_accuracy: 0.9188\n",
      "Epoch 6/100\n",
      "7274/7274 [==============================] - 9s 1ms/step - loss: 0.2120 - fn: 2454.0000 - fp: 3555.0000 - tn: 37660.0000 - tp: 29063.0000 - precision: 0.8910 - recall: 0.9221 - accuracy: 0.9221 - val_loss: 0.1693 - val_fn: 920.0000 - val_fp: 1163.0000 - val_tn: 16501.0000 - val_tp: 12588.0000 - val_precision: 0.9154 - val_recall: 0.9319 - val_accuracy: 0.9319\n",
      "Epoch 7/100\n",
      "7274/7274 [==============================] - 9s 1ms/step - loss: 0.2148 - fn: 2425.0000 - fp: 3571.0000 - tn: 37644.0000 - tp: 29092.0000 - precision: 0.8907 - recall: 0.9231 - accuracy: 0.9231 - val_loss: 0.1896 - val_fn: 938.0000 - val_fp: 1482.0000 - val_tn: 16182.0000 - val_tp: 12570.0000 - val_precision: 0.8945 - val_recall: 0.9306 - val_accuracy: 0.9306\n",
      "Epoch 8/100\n",
      "7274/7274 [==============================] - 9s 1ms/step - loss: 0.2122 - fn: 2443.0000 - fp: 3577.0000 - tn: 37638.0000 - tp: 29074.0000 - precision: 0.8904 - recall: 0.9225 - accuracy: 0.9225 - val_loss: 0.1756 - val_fn: 1089.0000 - val_fp: 939.0000 - val_tn: 16725.0000 - val_tp: 12419.0000 - val_precision: 0.9297 - val_recall: 0.9194 - val_accuracy: 0.9194\n",
      "Epoch 9/100\n",
      "7274/7274 [==============================] - 9s 1ms/step - loss: 0.2118 - fn: 2435.0000 - fp: 3547.0000 - tn: 37668.0000 - tp: 29082.0000 - precision: 0.8913 - recall: 0.9227 - accuracy: 0.9227 - val_loss: 0.1864 - val_fn: 846.0000 - val_fp: 1579.0000 - val_tn: 16085.0000 - val_tp: 12662.0000 - val_precision: 0.8891 - val_recall: 0.9374 - val_accuracy: 0.9374\n",
      "Epoch 10/100\n",
      "7274/7274 [==============================] - 9s 1ms/step - loss: 0.2134 - fn: 2410.0000 - fp: 3640.0000 - tn: 37575.0000 - tp: 29107.0000 - precision: 0.8888 - recall: 0.9235 - accuracy: 0.9235 - val_loss: 0.1851 - val_fn: 751.0000 - val_fp: 1593.0000 - val_tn: 16071.0000 - val_tp: 12757.0000 - val_precision: 0.8890 - val_recall: 0.9444 - val_accuracy: 0.9444\n",
      "Epoch 11/100\n",
      "7274/7274 [==============================] - 9s 1ms/step - loss: 0.2108 - fn: 2492.0000 - fp: 3540.0000 - tn: 37675.0000 - tp: 29025.0000 - precision: 0.8913 - recall: 0.9209 - accuracy: 0.9209 - val_loss: 0.1900 - val_fn: 1727.0000 - val_fp: 500.0000 - val_tn: 17164.0000 - val_tp: 11781.0000 - val_precision: 0.9593 - val_recall: 0.8721 - val_accuracy: 0.8721\n",
      "Epoch 12/100\n",
      "7274/7274 [==============================] - 9s 1ms/step - loss: 0.2116 - fn: 2426.0000 - fp: 3566.0000 - tn: 37649.0000 - tp: 29091.0000 - precision: 0.8908 - recall: 0.9230 - accuracy: 0.9230 - val_loss: 0.1715 - val_fn: 1263.0000 - val_fp: 806.0000 - val_tn: 16858.0000 - val_tp: 12245.0000 - val_precision: 0.9382 - val_recall: 0.9065 - val_accuracy: 0.9065\n",
      "Epoch 13/100\n",
      "7274/7274 [==============================] - 9s 1ms/step - loss: 0.2112 - fn: 2403.0000 - fp: 3545.0000 - tn: 37670.0000 - tp: 29114.0000 - precision: 0.8915 - recall: 0.9238 - accuracy: 0.9238 - val_loss: 0.1841 - val_fn: 840.0000 - val_fp: 1443.0000 - val_tn: 16221.0000 - val_tp: 12668.0000 - val_precision: 0.8977 - val_recall: 0.9378 - val_accuracy: 0.9378\n",
      "Epoch 14/100\n",
      "7274/7274 [==============================] - 9s 1ms/step - loss: 0.2113 - fn: 2449.0000 - fp: 3586.0000 - tn: 37629.0000 - tp: 29068.0000 - precision: 0.8902 - recall: 0.9223 - accuracy: 0.9223 - val_loss: 0.1799 - val_fn: 1392.0000 - val_fp: 671.0000 - val_tn: 16993.0000 - val_tp: 12116.0000 - val_precision: 0.9475 - val_recall: 0.8969 - val_accuracy: 0.8969\n",
      "Epoch 15/100\n",
      "7274/7274 [==============================] - 9s 1ms/step - loss: 0.2104 - fn: 2427.0000 - fp: 3492.0000 - tn: 37723.0000 - tp: 29090.0000 - precision: 0.8928 - recall: 0.9230 - accuracy: 0.9230 - val_loss: 0.1996 - val_fn: 1684.0000 - val_fp: 702.0000 - val_tn: 16962.0000 - val_tp: 11824.0000 - val_precision: 0.9440 - val_recall: 0.8753 - val_accuracy: 0.8753\n",
      "Epoch 16/100\n",
      "7274/7274 [==============================] - 9s 1ms/step - loss: 0.2100 - fn: 2433.0000 - fp: 3410.0000 - tn: 37805.0000 - tp: 29084.0000 - precision: 0.8951 - recall: 0.9228 - accuracy: 0.9228 - val_loss: 0.1904 - val_fn: 988.0000 - val_fp: 1336.0000 - val_tn: 16328.0000 - val_tp: 12520.0000 - val_precision: 0.9036 - val_recall: 0.9269 - val_accuracy: 0.9269\n",
      "Epoch 17/100\n",
      "7274/7274 [==============================] - 9s 1ms/step - loss: 0.2114 - fn: 2396.0000 - fp: 3580.0000 - tn: 37635.0000 - tp: 29121.0000 - precision: 0.8905 - recall: 0.9240 - accuracy: 0.9240 - val_loss: 0.1854 - val_fn: 757.0000 - val_fp: 1617.0000 - val_tn: 16047.0000 - val_tp: 12751.0000 - val_precision: 0.8875 - val_recall: 0.9440 - val_accuracy: 0.9440\n",
      "Epoch 18/100\n",
      "7274/7274 [==============================] - 9s 1ms/step - loss: 0.2080 - fn: 2443.0000 - fp: 3507.0000 - tn: 37708.0000 - tp: 29074.0000 - precision: 0.8924 - recall: 0.9225 - accuracy: 0.9225 - val_loss: 0.1768 - val_fn: 1045.0000 - val_fp: 1147.0000 - val_tn: 16517.0000 - val_tp: 12463.0000 - val_precision: 0.9157 - val_recall: 0.9226 - val_accuracy: 0.9226\n",
      "Epoch 19/100\n",
      "7274/7274 [==============================] - 9s 1ms/step - loss: 0.2133 - fn: 2442.0000 - fp: 3623.0000 - tn: 37592.0000 - tp: 29075.0000 - precision: 0.8892 - recall: 0.9225 - accuracy: 0.9225 - val_loss: 0.1676 - val_fn: 1154.0000 - val_fp: 852.0000 - val_tn: 16812.0000 - val_tp: 12354.0000 - val_precision: 0.9355 - val_recall: 0.9146 - val_accuracy: 0.9146\n",
      "Epoch 20/100\n",
      "7274/7274 [==============================] - 9s 1ms/step - loss: 0.2087 - fn: 2390.0000 - fp: 3543.0000 - tn: 37672.0000 - tp: 29127.0000 - precision: 0.8916 - recall: 0.9242 - accuracy: 0.9242 - val_loss: 0.1729 - val_fn: 974.0000 - val_fp: 1221.0000 - val_tn: 16443.0000 - val_tp: 12534.0000 - val_precision: 0.9112 - val_recall: 0.9279 - val_accuracy: 0.9279\n",
      "Epoch 21/100\n",
      "7274/7274 [==============================] - 9s 1ms/step - loss: 0.2129 - fn: 2451.0000 - fp: 3560.0000 - tn: 37655.0000 - tp: 29066.0000 - precision: 0.8909 - recall: 0.9222 - accuracy: 0.9222 - val_loss: 0.1694 - val_fn: 1147.0000 - val_fp: 893.0000 - val_tn: 16771.0000 - val_tp: 12361.0000 - val_precision: 0.9326 - val_recall: 0.9151 - val_accuracy: 0.9151\n",
      "Epoch 22/100\n",
      "7274/7274 [==============================] - 9s 1ms/step - loss: 0.2097 - fn: 2404.0000 - fp: 3526.0000 - tn: 37689.0000 - tp: 29113.0000 - precision: 0.8920 - recall: 0.9237 - accuracy: 0.9237 - val_loss: 0.1892 - val_fn: 1530.0000 - val_fp: 720.0000 - val_tn: 16944.0000 - val_tp: 11978.0000 - val_precision: 0.9433 - val_recall: 0.8867 - val_accuracy: 0.8867\n",
      "Epoch 23/100\n",
      "7274/7274 [==============================] - 9s 1ms/step - loss: 0.2102 - fn: 2387.0000 - fp: 3486.0000 - tn: 37729.0000 - tp: 29130.0000 - precision: 0.8931 - recall: 0.9243 - accuracy: 0.9243 - val_loss: 0.1778 - val_fn: 978.0000 - val_fp: 1173.0000 - val_tn: 16491.0000 - val_tp: 12530.0000 - val_precision: 0.9144 - val_recall: 0.9276 - val_accuracy: 0.9276\n",
      "Epoch 24/100\n",
      "7274/7274 [==============================] - 9s 1ms/step - loss: 0.2083 - fn: 2404.0000 - fp: 3526.0000 - tn: 37689.0000 - tp: 29113.0000 - precision: 0.8920 - recall: 0.9237 - accuracy: 0.9237 - val_loss: 0.1853 - val_fn: 1367.0000 - val_fp: 750.0000 - val_tn: 16914.0000 - val_tp: 12141.0000 - val_precision: 0.9418 - val_recall: 0.8988 - val_accuracy: 0.8988\n",
      "Epoch 25/100\n",
      "7274/7274 [==============================] - 9s 1ms/step - loss: 0.2076 - fn: 2394.0000 - fp: 3473.0000 - tn: 37742.0000 - tp: 29123.0000 - precision: 0.8935 - recall: 0.9240 - accuracy: 0.9240 - val_loss: 0.1842 - val_fn: 1415.0000 - val_fp: 730.0000 - val_tn: 16934.0000 - val_tp: 12093.0000 - val_precision: 0.9431 - val_recall: 0.8952 - val_accuracy: 0.8952\n",
      "Epoch 26/100\n",
      "7274/7274 [==============================] - 9s 1ms/step - loss: 0.2116 - fn: 2361.0000 - fp: 3549.0000 - tn: 37666.0000 - tp: 29156.0000 - precision: 0.8915 - recall: 0.9251 - accuracy: 0.9251 - val_loss: 0.2044 - val_fn: 607.0000 - val_fp: 2255.0000 - val_tn: 15409.0000 - val_tp: 12901.0000 - val_precision: 0.8512 - val_recall: 0.9551 - val_accuracy: 0.9551\n",
      "Epoch 27/100\n",
      "7274/7274 [==============================] - 9s 1ms/step - loss: 0.2125 - fn: 2383.0000 - fp: 3542.0000 - tn: 37673.0000 - tp: 29134.0000 - precision: 0.8916 - recall: 0.9244 - accuracy: 0.9244 - val_loss: 0.1865 - val_fn: 1300.0000 - val_fp: 785.0000 - val_tn: 16879.0000 - val_tp: 12208.0000 - val_precision: 0.9396 - val_recall: 0.9038 - val_accuracy: 0.9038\n",
      "Epoch 28/100\n",
      "7274/7274 [==============================] - 9s 1ms/step - loss: 0.2076 - fn: 2434.0000 - fp: 3447.0000 - tn: 37768.0000 - tp: 29083.0000 - precision: 0.8940 - recall: 0.9228 - accuracy: 0.9228 - val_loss: 0.1827 - val_fn: 1288.0000 - val_fp: 862.0000 - val_tn: 16802.0000 - val_tp: 12220.0000 - val_precision: 0.9341 - val_recall: 0.9046 - val_accuracy: 0.9046\n",
      "Epoch 29/100\n",
      "7274/7274 [==============================] - 9s 1ms/step - loss: 0.2095 - fn: 2390.0000 - fp: 3500.0000 - tn: 37715.0000 - tp: 29127.0000 - precision: 0.8927 - recall: 0.9242 - accuracy: 0.9242 - val_loss: 0.1781 - val_fn: 760.0000 - val_fp: 1607.0000 - val_tn: 16057.0000 - val_tp: 12748.0000 - val_precision: 0.8881 - val_recall: 0.9437 - val_accuracy: 0.9437\n",
      "Epoch 30/100\n",
      "7274/7274 [==============================] - 9s 1ms/step - loss: 0.2051 - fn: 2390.0000 - fp: 3396.0000 - tn: 37819.0000 - tp: 29127.0000 - precision: 0.8956 - recall: 0.9242 - accuracy: 0.9242 - val_loss: 0.1798 - val_fn: 1250.0000 - val_fp: 854.0000 - val_tn: 16810.0000 - val_tp: 12258.0000 - val_precision: 0.9349 - val_recall: 0.9075 - val_accuracy: 0.9075\n",
      "Epoch 31/100\n",
      "7274/7274 [==============================] - 9s 1ms/step - loss: 0.2101 - fn: 2401.0000 - fp: 3519.0000 - tn: 37696.0000 - tp: 29116.0000 - precision: 0.8922 - recall: 0.9238 - accuracy: 0.9238 - val_loss: 0.1841 - val_fn: 1363.0000 - val_fp: 728.0000 - val_tn: 16936.0000 - val_tp: 12145.0000 - val_precision: 0.9434 - val_recall: 0.8991 - val_accuracy: 0.8991\n",
      "Epoch 32/100\n",
      "7274/7274 [==============================] - 9s 1ms/step - loss: 0.2081 - fn: 2360.0000 - fp: 3490.0000 - tn: 37725.0000 - tp: 29157.0000 - precision: 0.8931 - recall: 0.9251 - accuracy: 0.9251 - val_loss: 0.1762 - val_fn: 1129.0000 - val_fp: 937.0000 - val_tn: 16727.0000 - val_tp: 12379.0000 - val_precision: 0.9296 - val_recall: 0.9164 - val_accuracy: 0.9164\n",
      "Epoch 33/100\n",
      "7274/7274 [==============================] - 9s 1ms/step - loss: 0.2099 - fn: 2408.0000 - fp: 3504.0000 - tn: 37711.0000 - tp: 29109.0000 - precision: 0.8926 - recall: 0.9236 - accuracy: 0.9236 - val_loss: 0.1695 - val_fn: 1083.0000 - val_fp: 948.0000 - val_tn: 16716.0000 - val_tp: 12425.0000 - val_precision: 0.9291 - val_recall: 0.9198 - val_accuracy: 0.9198\n",
      "Epoch 34/100\n",
      "7274/7274 [==============================] - 9s 1ms/step - loss: 0.2066 - fn: 2349.0000 - fp: 3415.0000 - tn: 37800.0000 - tp: 29168.0000 - precision: 0.8952 - recall: 0.9255 - accuracy: 0.9255 - val_loss: 0.1811 - val_fn: 1404.0000 - val_fp: 665.0000 - val_tn: 16999.0000 - val_tp: 12104.0000 - val_precision: 0.9479 - val_recall: 0.8961 - val_accuracy: 0.8961\n",
      "Epoch 35/100\n",
      "7274/7274 [==============================] - 9s 1ms/step - loss: 0.2075 - fn: 2394.0000 - fp: 3479.0000 - tn: 37736.0000 - tp: 29123.0000 - precision: 0.8933 - recall: 0.9240 - accuracy: 0.9240 - val_loss: 0.2192 - val_fn: 525.0000 - val_fp: 2609.0000 - val_tn: 15055.0000 - val_tp: 12983.0000 - val_precision: 0.8327 - val_recall: 0.9611 - val_accuracy: 0.9611\n",
      "Epoch 36/100\n",
      "7274/7274 [==============================] - 9s 1ms/step - loss: 0.2085 - fn: 2382.0000 - fp: 3501.0000 - tn: 37714.0000 - tp: 29135.0000 - precision: 0.8927 - recall: 0.9244 - accuracy: 0.9244 - val_loss: 0.1933 - val_fn: 1460.0000 - val_fp: 770.0000 - val_tn: 16894.0000 - val_tp: 12048.0000 - val_precision: 0.9399 - val_recall: 0.8919 - val_accuracy: 0.8919\n",
      "Epoch 37/100\n",
      "7274/7274 [==============================] - 9s 1ms/step - loss: 0.2107 - fn: 2415.0000 - fp: 3565.0000 - tn: 37650.0000 - tp: 29102.0000 - precision: 0.8909 - recall: 0.9234 - accuracy: 0.9234 - val_loss: 0.1794 - val_fn: 1334.0000 - val_fp: 731.0000 - val_tn: 16933.0000 - val_tp: 12174.0000 - val_precision: 0.9434 - val_recall: 0.9012 - val_accuracy: 0.9012\n",
      "Epoch 38/100\n",
      "7274/7274 [==============================] - 9s 1ms/step - loss: 0.2088 - fn: 2372.0000 - fp: 3507.0000 - tn: 37708.0000 - tp: 29145.0000 - precision: 0.8926 - recall: 0.9247 - accuracy: 0.9247 - val_loss: 0.1657 - val_fn: 984.0000 - val_fp: 1094.0000 - val_tn: 16570.0000 - val_tp: 12524.0000 - val_precision: 0.9197 - val_recall: 0.9272 - val_accuracy: 0.9272\n",
      "Epoch 39/100\n",
      "7274/7274 [==============================] - 9s 1ms/step - loss: 0.2086 - fn: 2390.0000 - fp: 3443.0000 - tn: 37772.0000 - tp: 29127.0000 - precision: 0.8943 - recall: 0.9242 - accuracy: 0.9242 - val_loss: 0.1691 - val_fn: 1074.0000 - val_fp: 916.0000 - val_tn: 16748.0000 - val_tp: 12434.0000 - val_precision: 0.9314 - val_recall: 0.9205 - val_accuracy: 0.9205\n",
      "Epoch 40/100\n",
      "7274/7274 [==============================] - 9s 1ms/step - loss: 0.2092 - fn: 2395.0000 - fp: 3477.0000 - tn: 37738.0000 - tp: 29122.0000 - precision: 0.8933 - recall: 0.9240 - accuracy: 0.9240 - val_loss: 0.1709 - val_fn: 994.0000 - val_fp: 1088.0000 - val_tn: 16576.0000 - val_tp: 12514.0000 - val_precision: 0.9200 - val_recall: 0.9264 - val_accuracy: 0.9264\n",
      "Epoch 41/100\n",
      "7274/7274 [==============================] - 9s 1ms/step - loss: 0.2074 - fn: 2394.0000 - fp: 3483.0000 - tn: 37732.0000 - tp: 29123.0000 - precision: 0.8932 - recall: 0.9240 - accuracy: 0.9240 - val_loss: 0.1697 - val_fn: 1162.0000 - val_fp: 901.0000 - val_tn: 16763.0000 - val_tp: 12346.0000 - val_precision: 0.9320 - val_recall: 0.9140 - val_accuracy: 0.9140\n",
      "Epoch 42/100\n",
      "7274/7274 [==============================] - 9s 1ms/step - loss: 0.2077 - fn: 2378.0000 - fp: 3458.0000 - tn: 37757.0000 - tp: 29139.0000 - precision: 0.8939 - recall: 0.9245 - accuracy: 0.9245 - val_loss: 0.1706 - val_fn: 823.0000 - val_fp: 1318.0000 - val_tn: 16346.0000 - val_tp: 12685.0000 - val_precision: 0.9059 - val_recall: 0.9391 - val_accuracy: 0.9391\n",
      "Epoch 43/100\n",
      "7274/7274 [==============================] - 9s 1ms/step - loss: 0.2089 - fn: 2342.0000 - fp: 3460.0000 - tn: 37755.0000 - tp: 29175.0000 - precision: 0.8940 - recall: 0.9257 - accuracy: 0.9257 - val_loss: 0.1744 - val_fn: 859.0000 - val_fp: 1327.0000 - val_tn: 16337.0000 - val_tp: 12649.0000 - val_precision: 0.9051 - val_recall: 0.9364 - val_accuracy: 0.9364\n",
      "Epoch 44/100\n",
      "7274/7274 [==============================] - 9s 1ms/step - loss: 0.2079 - fn: 2427.0000 - fp: 3450.0000 - tn: 37765.0000 - tp: 29090.0000 - precision: 0.8940 - recall: 0.9230 - accuracy: 0.9230 - val_loss: 0.1687 - val_fn: 996.0000 - val_fp: 1025.0000 - val_tn: 16639.0000 - val_tp: 12512.0000 - val_precision: 0.9243 - val_recall: 0.9263 - val_accuracy: 0.9263\n",
      "Epoch 45/100\n",
      "7274/7274 [==============================] - 9s 1ms/step - loss: 0.2076 - fn: 2384.0000 - fp: 3457.0000 - tn: 37758.0000 - tp: 29133.0000 - precision: 0.8939 - recall: 0.9244 - accuracy: 0.9244 - val_loss: 0.1731 - val_fn: 1056.0000 - val_fp: 1033.0000 - val_tn: 16631.0000 - val_tp: 12452.0000 - val_precision: 0.9234 - val_recall: 0.9218 - val_accuracy: 0.9218\n",
      "Epoch 46/100\n",
      "7274/7274 [==============================] - 9s 1ms/step - loss: 0.2081 - fn: 2402.0000 - fp: 3436.0000 - tn: 37779.0000 - tp: 29115.0000 - precision: 0.8944 - recall: 0.9238 - accuracy: 0.9238 - val_loss: 0.1858 - val_fn: 671.0000 - val_fp: 1762.0000 - val_tn: 15902.0000 - val_tp: 12837.0000 - val_precision: 0.8793 - val_recall: 0.9503 - val_accuracy: 0.9503\n",
      "Epoch 47/100\n",
      "7274/7274 [==============================] - 9s 1ms/step - loss: 0.2068 - fn: 2396.0000 - fp: 3433.0000 - tn: 37782.0000 - tp: 29121.0000 - precision: 0.8945 - recall: 0.9240 - accuracy: 0.9240 - val_loss: 0.1808 - val_fn: 1017.0000 - val_fp: 1091.0000 - val_tn: 16573.0000 - val_tp: 12491.0000 - val_precision: 0.9197 - val_recall: 0.9247 - val_accuracy: 0.9247\n",
      "Epoch 48/100\n",
      "7274/7274 [==============================] - 9s 1ms/step - loss: 0.2077 - fn: 2404.0000 - fp: 3499.0000 - tn: 37716.0000 - tp: 29113.0000 - precision: 0.8927 - recall: 0.9237 - accuracy: 0.9237 - val_loss: 0.1760 - val_fn: 1295.0000 - val_fp: 778.0000 - val_tn: 16886.0000 - val_tp: 12213.0000 - val_precision: 0.9401 - val_recall: 0.9041 - val_accuracy: 0.9041\n",
      "Epoch 49/100\n",
      "7274/7274 [==============================] - 9s 1ms/step - loss: 0.2059 - fn: 2376.0000 - fp: 3451.0000 - tn: 37764.0000 - tp: 29141.0000 - precision: 0.8941 - recall: 0.9246 - accuracy: 0.9246 - val_loss: 0.1867 - val_fn: 1296.0000 - val_fp: 958.0000 - val_tn: 16706.0000 - val_tp: 12212.0000 - val_precision: 0.9273 - val_recall: 0.9041 - val_accuracy: 0.9041\n",
      "Epoch 50/100\n",
      "7274/7274 [==============================] - 9s 1ms/step - loss: 0.2060 - fn: 2414.0000 - fp: 3455.0000 - tn: 37760.0000 - tp: 29103.0000 - precision: 0.8939 - recall: 0.9234 - accuracy: 0.9234 - val_loss: 0.1731 - val_fn: 1028.0000 - val_fp: 1026.0000 - val_tn: 16638.0000 - val_tp: 12480.0000 - val_precision: 0.9240 - val_recall: 0.9239 - val_accuracy: 0.9239\n",
      "Epoch 51/100\n",
      "7274/7274 [==============================] - 10s 1ms/step - loss: 0.2050 - fn: 2385.0000 - fp: 3396.0000 - tn: 37819.0000 - tp: 29132.0000 - precision: 0.8956 - recall: 0.9243 - accuracy: 0.9243 - val_loss: 0.2026 - val_fn: 1766.0000 - val_fp: 512.0000 - val_tn: 17152.0000 - val_tp: 11742.0000 - val_precision: 0.9582 - val_recall: 0.8693 - val_accuracy: 0.8693\n",
      "Epoch 52/100\n",
      "7274/7274 [==============================] - 10s 1ms/step - loss: 0.2097 - fn: 2424.0000 - fp: 3473.0000 - tn: 37742.0000 - tp: 29093.0000 - precision: 0.8934 - recall: 0.9231 - accuracy: 0.9231 - val_loss: 0.1730 - val_fn: 875.0000 - val_fp: 1280.0000 - val_tn: 16384.0000 - val_tp: 12633.0000 - val_precision: 0.9080 - val_recall: 0.9352 - val_accuracy: 0.9352\n",
      "Epoch 53/100\n",
      "7274/7274 [==============================] - 9s 1ms/step - loss: 0.2045 - fn: 2353.0000 - fp: 3425.0000 - tn: 37790.0000 - tp: 29164.0000 - precision: 0.8949 - recall: 0.9253 - accuracy: 0.9253 - val_loss: 0.1750 - val_fn: 1500.0000 - val_fp: 582.0000 - val_tn: 17082.0000 - val_tp: 12008.0000 - val_precision: 0.9538 - val_recall: 0.8890 - val_accuracy: 0.8890\n",
      "Epoch 54/100\n",
      "7274/7274 [==============================] - 9s 1ms/step - loss: 0.2069 - fn: 2415.0000 - fp: 3472.0000 - tn: 37743.0000 - tp: 29102.0000 - precision: 0.8934 - recall: 0.9234 - accuracy: 0.9234 - val_loss: 0.1668 - val_fn: 1049.0000 - val_fp: 960.0000 - val_tn: 16704.0000 - val_tp: 12459.0000 - val_precision: 0.9285 - val_recall: 0.9223 - val_accuracy: 0.9223\n",
      "Epoch 55/100\n",
      "7274/7274 [==============================] - 9s 1ms/step - loss: 0.2078 - fn: 2494.0000 - fp: 3435.0000 - tn: 37780.0000 - tp: 29023.0000 - precision: 0.8942 - recall: 0.9209 - accuracy: 0.9209 - val_loss: 0.1809 - val_fn: 1213.0000 - val_fp: 815.0000 - val_tn: 16849.0000 - val_tp: 12295.0000 - val_precision: 0.9378 - val_recall: 0.9102 - val_accuracy: 0.9102\n",
      "Epoch 56/100\n",
      "7274/7274 [==============================] - 9s 1ms/step - loss: 0.2056 - fn: 2418.0000 - fp: 3453.0000 - tn: 37762.0000 - tp: 29099.0000 - precision: 0.8939 - recall: 0.9233 - accuracy: 0.9233 - val_loss: 0.1802 - val_fn: 1450.0000 - val_fp: 633.0000 - val_tn: 17031.0000 - val_tp: 12058.0000 - val_precision: 0.9501 - val_recall: 0.8927 - val_accuracy: 0.8927\n",
      "Epoch 57/100\n",
      "7274/7274 [==============================] - 9s 1ms/step - loss: 0.2076 - fn: 2386.0000 - fp: 3404.0000 - tn: 37811.0000 - tp: 29131.0000 - precision: 0.8954 - recall: 0.9243 - accuracy: 0.9243 - val_loss: 0.1854 - val_fn: 1096.0000 - val_fp: 1091.0000 - val_tn: 16573.0000 - val_tp: 12412.0000 - val_precision: 0.9192 - val_recall: 0.9189 - val_accuracy: 0.9189\n",
      "Epoch 58/100\n",
      "7274/7274 [==============================] - 9s 1ms/step - loss: 0.2075 - fn: 2374.0000 - fp: 3492.0000 - tn: 37723.0000 - tp: 29143.0000 - precision: 0.8930 - recall: 0.9247 - accuracy: 0.9247 - val_loss: 0.2142 - val_fn: 1917.0000 - val_fp: 579.0000 - val_tn: 17085.0000 - val_tp: 11591.0000 - val_precision: 0.9524 - val_recall: 0.8581 - val_accuracy: 0.8581\n",
      "Epoch 59/100\n",
      "7274/7274 [==============================] - 9s 1ms/step - loss: 0.2050 - fn: 2379.0000 - fp: 3449.0000 - tn: 37766.0000 - tp: 29138.0000 - precision: 0.8942 - recall: 0.9245 - accuracy: 0.9245 - val_loss: 0.1749 - val_fn: 970.0000 - val_fp: 1265.0000 - val_tn: 16399.0000 - val_tp: 12538.0000 - val_precision: 0.9084 - val_recall: 0.9282 - val_accuracy: 0.9282\n",
      "Epoch 60/100\n",
      "7274/7274 [==============================] - 10s 1ms/step - loss: 0.2054 - fn: 2380.0000 - fp: 3376.0000 - tn: 37839.0000 - tp: 29137.0000 - precision: 0.8962 - recall: 0.9245 - accuracy: 0.9245 - val_loss: 0.1727 - val_fn: 1391.0000 - val_fp: 664.0000 - val_tn: 17000.0000 - val_tp: 12117.0000 - val_precision: 0.9480 - val_recall: 0.8970 - val_accuracy: 0.8970\n",
      "Epoch 61/100\n",
      "7274/7274 [==============================] - 10s 1ms/step - loss: 0.2057 - fn: 2393.0000 - fp: 3495.0000 - tn: 37720.0000 - tp: 29124.0000 - precision: 0.8929 - recall: 0.9241 - accuracy: 0.9241 - val_loss: 0.1658 - val_fn: 1172.0000 - val_fp: 800.0000 - val_tn: 16864.0000 - val_tp: 12336.0000 - val_precision: 0.9391 - val_recall: 0.9132 - val_accuracy: 0.9132\n",
      "Epoch 62/100\n",
      "7274/7274 [==============================] - 10s 1ms/step - loss: 0.2043 - fn: 2371.0000 - fp: 3423.0000 - tn: 37792.0000 - tp: 29146.0000 - precision: 0.8949 - recall: 0.9248 - accuracy: 0.9248 - val_loss: 0.2068 - val_fn: 1413.0000 - val_fp: 776.0000 - val_tn: 16888.0000 - val_tp: 12095.0000 - val_precision: 0.9397 - val_recall: 0.8954 - val_accuracy: 0.8954\n",
      "Epoch 63/100\n",
      "7274/7274 [==============================] - 10s 1ms/step - loss: 0.2085 - fn: 2378.0000 - fp: 3519.0000 - tn: 37696.0000 - tp: 29139.0000 - precision: 0.8922 - recall: 0.9245 - accuracy: 0.9245 - val_loss: 0.1734 - val_fn: 1069.0000 - val_fp: 959.0000 - val_tn: 16705.0000 - val_tp: 12439.0000 - val_precision: 0.9284 - val_recall: 0.9209 - val_accuracy: 0.9209\n",
      "Epoch 64/100\n",
      "7274/7274 [==============================] - 9s 1ms/step - loss: 0.2069 - fn: 2398.0000 - fp: 3454.0000 - tn: 37761.0000 - tp: 29119.0000 - precision: 0.8940 - recall: 0.9239 - accuracy: 0.9239 - val_loss: 0.1684 - val_fn: 1115.0000 - val_fp: 948.0000 - val_tn: 16716.0000 - val_tp: 12393.0000 - val_precision: 0.9289 - val_recall: 0.9175 - val_accuracy: 0.9175\n",
      "Epoch 65/100\n",
      "7274/7274 [==============================] - 9s 1ms/step - loss: 0.2037 - fn: 2380.0000 - fp: 3446.0000 - tn: 37769.0000 - tp: 29137.0000 - precision: 0.8942 - recall: 0.9245 - accuracy: 0.9245 - val_loss: 0.1916 - val_fn: 995.0000 - val_fp: 1512.0000 - val_tn: 16152.0000 - val_tp: 12513.0000 - val_precision: 0.8922 - val_recall: 0.9263 - val_accuracy: 0.9263\n",
      "Epoch 66/100\n",
      "7274/7274 [==============================] - 9s 1ms/step - loss: 0.2079 - fn: 2393.0000 - fp: 3460.0000 - tn: 37755.0000 - tp: 29124.0000 - precision: 0.8938 - recall: 0.9241 - accuracy: 0.9241 - val_loss: 0.1648 - val_fn: 1072.0000 - val_fp: 969.0000 - val_tn: 16695.0000 - val_tp: 12436.0000 - val_precision: 0.9277 - val_recall: 0.9206 - val_accuracy: 0.9206\n",
      "Epoch 67/100\n",
      "7274/7274 [==============================] - 9s 1ms/step - loss: 0.2047 - fn: 2355.0000 - fp: 3400.0000 - tn: 37815.0000 - tp: 29162.0000 - precision: 0.8956 - recall: 0.9253 - accuracy: 0.9253 - val_loss: 0.1686 - val_fn: 1097.0000 - val_fp: 1013.0000 - val_tn: 16651.0000 - val_tp: 12411.0000 - val_precision: 0.9245 - val_recall: 0.9188 - val_accuracy: 0.9188\n",
      "Epoch 68/100\n",
      "7274/7274 [==============================] - 9s 1ms/step - loss: 0.2044 - fn: 2353.0000 - fp: 3416.0000 - tn: 37799.0000 - tp: 29164.0000 - precision: 0.8952 - recall: 0.9253 - accuracy: 0.9253 - val_loss: 0.1855 - val_fn: 1161.0000 - val_fp: 1036.0000 - val_tn: 16628.0000 - val_tp: 12347.0000 - val_precision: 0.9226 - val_recall: 0.9141 - val_accuracy: 0.9141\n",
      "Epoch 69/100\n",
      "7274/7274 [==============================] - 9s 1ms/step - loss: 0.2078 - fn: 2361.0000 - fp: 3472.0000 - tn: 37743.0000 - tp: 29156.0000 - precision: 0.8936 - recall: 0.9251 - accuracy: 0.9251 - val_loss: 0.1699 - val_fn: 1245.0000 - val_fp: 767.0000 - val_tn: 16897.0000 - val_tp: 12263.0000 - val_precision: 0.9411 - val_recall: 0.9078 - val_accuracy: 0.9078\n",
      "Epoch 70/100\n",
      "7274/7274 [==============================] - 9s 1ms/step - loss: 0.2070 - fn: 2403.0000 - fp: 3418.0000 - tn: 37797.0000 - tp: 29114.0000 - precision: 0.8949 - recall: 0.9238 - accuracy: 0.9238 - val_loss: 0.1794 - val_fn: 983.0000 - val_fp: 1222.0000 - val_tn: 16442.0000 - val_tp: 12525.0000 - val_precision: 0.9111 - val_recall: 0.9272 - val_accuracy: 0.9272\n",
      "Epoch 71/100\n",
      "7274/7274 [==============================] - 9s 1ms/step - loss: 0.2050 - fn: 2400.0000 - fp: 3427.0000 - tn: 37788.0000 - tp: 29117.0000 - precision: 0.8947 - recall: 0.9239 - accuracy: 0.9239 - val_loss: 0.1831 - val_fn: 760.0000 - val_fp: 1614.0000 - val_tn: 16050.0000 - val_tp: 12748.0000 - val_precision: 0.8876 - val_recall: 0.9437 - val_accuracy: 0.9437\n",
      "Epoch 72/100\n",
      "7274/7274 [==============================] - 9s 1ms/step - loss: 0.2019 - fn: 2359.0000 - fp: 3371.0000 - tn: 37844.0000 - tp: 29158.0000 - precision: 0.8964 - recall: 0.9252 - accuracy: 0.9252 - val_loss: 0.1751 - val_fn: 1177.0000 - val_fp: 1034.0000 - val_tn: 16630.0000 - val_tp: 12331.0000 - val_precision: 0.9226 - val_recall: 0.9129 - val_accuracy: 0.9129\n",
      "Epoch 73/100\n",
      "7274/7274 [==============================] - 9s 1ms/step - loss: 0.2055 - fn: 2335.0000 - fp: 3432.0000 - tn: 37783.0000 - tp: 29182.0000 - precision: 0.8948 - recall: 0.9259 - accuracy: 0.9259 - val_loss: 0.2131 - val_fn: 1921.0000 - val_fp: 390.0000 - val_tn: 17274.0000 - val_tp: 11587.0000 - val_precision: 0.9674 - val_recall: 0.8578 - val_accuracy: 0.8578\n",
      "Epoch 74/100\n",
      "7274/7274 [==============================] - 9s 1ms/step - loss: 0.2042 - fn: 2354.0000 - fp: 3439.0000 - tn: 37776.0000 - tp: 29163.0000 - precision: 0.8945 - recall: 0.9253 - accuracy: 0.9253 - val_loss: 0.2106 - val_fn: 1732.0000 - val_fp: 641.0000 - val_tn: 17023.0000 - val_tp: 11776.0000 - val_precision: 0.9484 - val_recall: 0.8718 - val_accuracy: 0.8718\n",
      "Epoch 75/100\n",
      "7274/7274 [==============================] - 10s 1ms/step - loss: 0.2051 - fn: 2387.0000 - fp: 3373.0000 - tn: 37842.0000 - tp: 29130.0000 - precision: 0.8962 - recall: 0.9243 - accuracy: 0.9243 - val_loss: 0.2119 - val_fn: 531.0000 - val_fp: 2477.0000 - val_tn: 15187.0000 - val_tp: 12977.0000 - val_precision: 0.8397 - val_recall: 0.9607 - val_accuracy: 0.9607\n",
      "Epoch 76/100\n",
      "7274/7274 [==============================] - 9s 1ms/step - loss: 0.2054 - fn: 2372.0000 - fp: 3363.0000 - tn: 37852.0000 - tp: 29145.0000 - precision: 0.8965 - recall: 0.9247 - accuracy: 0.9247 - val_loss: 0.1713 - val_fn: 1161.0000 - val_fp: 823.0000 - val_tn: 16841.0000 - val_tp: 12347.0000 - val_precision: 0.9375 - val_recall: 0.9141 - val_accuracy: 0.9141\n",
      "Epoch 77/100\n",
      "7274/7274 [==============================] - 9s 1ms/step - loss: 0.2039 - fn: 2395.0000 - fp: 3376.0000 - tn: 37839.0000 - tp: 29122.0000 - precision: 0.8961 - recall: 0.9240 - accuracy: 0.9240 - val_loss: 0.1671 - val_fn: 1245.0000 - val_fp: 741.0000 - val_tn: 16923.0000 - val_tp: 12263.0000 - val_precision: 0.9430 - val_recall: 0.9078 - val_accuracy: 0.9078\n",
      "Epoch 78/100\n",
      "7274/7274 [==============================] - 9s 1ms/step - loss: 0.2047 - fn: 2385.0000 - fp: 3447.0000 - tn: 37768.0000 - tp: 29132.0000 - precision: 0.8942 - recall: 0.9243 - accuracy: 0.9243 - val_loss: 0.1788 - val_fn: 708.0000 - val_fp: 1611.0000 - val_tn: 16053.0000 - val_tp: 12800.0000 - val_precision: 0.8882 - val_recall: 0.9476 - val_accuracy: 0.9476\n",
      "Epoch 79/100\n",
      "7274/7274 [==============================] - 9s 1ms/step - loss: 0.2038 - fn: 2378.0000 - fp: 3430.0000 - tn: 37785.0000 - tp: 29139.0000 - precision: 0.8947 - recall: 0.9245 - accuracy: 0.9245 - val_loss: 0.2242 - val_fn: 1426.0000 - val_fp: 741.0000 - val_tn: 16923.0000 - val_tp: 12082.0000 - val_precision: 0.9422 - val_recall: 0.8944 - val_accuracy: 0.8944\n",
      "Epoch 80/100\n",
      "7274/7274 [==============================] - 9s 1ms/step - loss: 0.2026 - fn: 2359.0000 - fp: 3372.0000 - tn: 37843.0000 - tp: 29158.0000 - precision: 0.8963 - recall: 0.9252 - accuracy: 0.9252 - val_loss: 0.1797 - val_fn: 1387.0000 - val_fp: 702.0000 - val_tn: 16962.0000 - val_tp: 12121.0000 - val_precision: 0.9453 - val_recall: 0.8973 - val_accuracy: 0.8973\n",
      "Epoch 81/100\n",
      "7274/7274 [==============================] - 9s 1ms/step - loss: 0.2026 - fn: 2345.0000 - fp: 3423.0000 - tn: 37792.0000 - tp: 29172.0000 - precision: 0.8950 - recall: 0.9256 - accuracy: 0.9256 - val_loss: 0.2034 - val_fn: 639.0000 - val_fp: 2242.0000 - val_tn: 15422.0000 - val_tp: 12869.0000 - val_precision: 0.8516 - val_recall: 0.9527 - val_accuracy: 0.9527\n",
      "Epoch 82/100\n",
      "7274/7274 [==============================] - 9s 1ms/step - loss: 0.2072 - fn: 2361.0000 - fp: 3534.0000 - tn: 37681.0000 - tp: 29156.0000 - precision: 0.8919 - recall: 0.9251 - accuracy: 0.9251 - val_loss: 0.1734 - val_fn: 984.0000 - val_fp: 1074.0000 - val_tn: 16590.0000 - val_tp: 12524.0000 - val_precision: 0.9210 - val_recall: 0.9272 - val_accuracy: 0.9272\n",
      "Epoch 83/100\n",
      "7274/7274 [==============================] - 9s 1ms/step - loss: 0.2033 - fn: 2345.0000 - fp: 3384.0000 - tn: 37831.0000 - tp: 29172.0000 - precision: 0.8961 - recall: 0.9256 - accuracy: 0.9256 - val_loss: 0.2054 - val_fn: 1945.0000 - val_fp: 482.0000 - val_tn: 17182.0000 - val_tp: 11563.0000 - val_precision: 0.9600 - val_recall: 0.8560 - val_accuracy: 0.8560\n",
      "Epoch 84/100\n",
      "7274/7274 [==============================] - 9s 1ms/step - loss: 0.2016 - fn: 2378.0000 - fp: 3378.0000 - tn: 37837.0000 - tp: 29139.0000 - precision: 0.8961 - recall: 0.9245 - accuracy: 0.9245 - val_loss: 0.1788 - val_fn: 812.0000 - val_fp: 1453.0000 - val_tn: 16211.0000 - val_tp: 12696.0000 - val_precision: 0.8973 - val_recall: 0.9399 - val_accuracy: 0.9399\n",
      "Epoch 85/100\n",
      "7274/7274 [==============================] - 9s 1ms/step - loss: 0.2007 - fn: 2395.0000 - fp: 3361.0000 - tn: 37854.0000 - tp: 29122.0000 - precision: 0.8965 - recall: 0.9240 - accuracy: 0.9240 - val_loss: 0.1691 - val_fn: 998.0000 - val_fp: 1109.0000 - val_tn: 16555.0000 - val_tp: 12510.0000 - val_precision: 0.9186 - val_recall: 0.9261 - val_accuracy: 0.9261\n",
      "Epoch 86/100\n",
      "7274/7274 [==============================] - 9s 1ms/step - loss: 0.2041 - fn: 2379.0000 - fp: 3400.0000 - tn: 37815.0000 - tp: 29138.0000 - precision: 0.8955 - recall: 0.9245 - accuracy: 0.9245 - val_loss: 0.1872 - val_fn: 1422.0000 - val_fp: 763.0000 - val_tn: 16901.0000 - val_tp: 12086.0000 - val_precision: 0.9406 - val_recall: 0.8947 - val_accuracy: 0.8947\n",
      "Epoch 87/100\n",
      "7274/7274 [==============================] - 9s 1ms/step - loss: 0.2043 - fn: 2352.0000 - fp: 3435.0000 - tn: 37780.0000 - tp: 29165.0000 - precision: 0.8946 - recall: 0.9254 - accuracy: 0.9254 - val_loss: 0.1703 - val_fn: 858.0000 - val_fp: 1367.0000 - val_tn: 16297.0000 - val_tp: 12650.0000 - val_precision: 0.9025 - val_recall: 0.9365 - val_accuracy: 0.9365\n",
      "Epoch 88/100\n",
      "7274/7274 [==============================] - 9s 1ms/step - loss: 0.2026 - fn: 2398.0000 - fp: 3350.0000 - tn: 37865.0000 - tp: 29119.0000 - precision: 0.8968 - recall: 0.9239 - accuracy: 0.9239 - val_loss: 0.1676 - val_fn: 1316.0000 - val_fp: 762.0000 - val_tn: 16902.0000 - val_tp: 12192.0000 - val_precision: 0.9412 - val_recall: 0.9026 - val_accuracy: 0.9026\n",
      "Epoch 89/100\n",
      "7274/7274 [==============================] - 10s 1ms/step - loss: 0.2031 - fn: 2366.0000 - fp: 3354.0000 - tn: 37861.0000 - tp: 29151.0000 - precision: 0.8968 - recall: 0.9249 - accuracy: 0.9249 - val_loss: 0.1710 - val_fn: 1041.0000 - val_fp: 1071.0000 - val_tn: 16593.0000 - val_tp: 12467.0000 - val_precision: 0.9209 - val_recall: 0.9229 - val_accuracy: 0.9229\n",
      "Epoch 90/100\n",
      "7274/7274 [==============================] - 9s 1ms/step - loss: 0.2014 - fn: 2340.0000 - fp: 3381.0000 - tn: 37834.0000 - tp: 29177.0000 - precision: 0.8962 - recall: 0.9258 - accuracy: 0.9258 - val_loss: 0.1704 - val_fn: 1117.0000 - val_fp: 882.0000 - val_tn: 16782.0000 - val_tp: 12391.0000 - val_precision: 0.9335 - val_recall: 0.9173 - val_accuracy: 0.9173\n",
      "Epoch 91/100\n",
      "7274/7274 [==============================] - 9s 1ms/step - loss: 0.2038 - fn: 2344.0000 - fp: 3420.0000 - tn: 37795.0000 - tp: 29173.0000 - precision: 0.8951 - recall: 0.9256 - accuracy: 0.9256 - val_loss: 0.1697 - val_fn: 833.0000 - val_fp: 1309.0000 - val_tn: 16355.0000 - val_tp: 12675.0000 - val_precision: 0.9064 - val_recall: 0.9383 - val_accuracy: 0.9383\n",
      "Epoch 92/100\n",
      "7274/7274 [==============================] - 9s 1ms/step - loss: 0.2034 - fn: 2362.0000 - fp: 3419.0000 - tn: 37796.0000 - tp: 29155.0000 - precision: 0.8950 - recall: 0.9251 - accuracy: 0.9251 - val_loss: 0.1626 - val_fn: 1277.0000 - val_fp: 737.0000 - val_tn: 16927.0000 - val_tp: 12231.0000 - val_precision: 0.9432 - val_recall: 0.9055 - val_accuracy: 0.9055\n",
      "Epoch 93/100\n",
      "7274/7274 [==============================] - 9s 1ms/step - loss: 0.2035 - fn: 2407.0000 - fp: 3399.0000 - tn: 37816.0000 - tp: 29110.0000 - precision: 0.8954 - recall: 0.9236 - accuracy: 0.9236 - val_loss: 0.1664 - val_fn: 1266.0000 - val_fp: 707.0000 - val_tn: 16957.0000 - val_tp: 12242.0000 - val_precision: 0.9454 - val_recall: 0.9063 - val_accuracy: 0.9063\n",
      "Epoch 94/100\n",
      "7274/7274 [==============================] - 9s 1ms/step - loss: 0.2030 - fn: 2320.0000 - fp: 3290.0000 - tn: 37925.0000 - tp: 29197.0000 - precision: 0.8987 - recall: 0.9264 - accuracy: 0.9264 - val_loss: 0.1751 - val_fn: 1168.0000 - val_fp: 907.0000 - val_tn: 16757.0000 - val_tp: 12340.0000 - val_precision: 0.9315 - val_recall: 0.9135 - val_accuracy: 0.9135\n",
      "Epoch 95/100\n",
      "7274/7274 [==============================] - 9s 1ms/step - loss: 0.2032 - fn: 2365.0000 - fp: 3438.0000 - tn: 37777.0000 - tp: 29152.0000 - precision: 0.8945 - recall: 0.9250 - accuracy: 0.9250 - val_loss: 0.1969 - val_fn: 1647.0000 - val_fp: 578.0000 - val_tn: 17086.0000 - val_tp: 11861.0000 - val_precision: 0.9535 - val_recall: 0.8781 - val_accuracy: 0.8781\n",
      "Epoch 96/100\n",
      "7274/7274 [==============================] - 9s 1ms/step - loss: 0.2054 - fn: 2385.0000 - fp: 3424.0000 - tn: 37791.0000 - tp: 29132.0000 - precision: 0.8948 - recall: 0.9243 - accuracy: 0.9243 - val_loss: 0.1741 - val_fn: 771.0000 - val_fp: 1559.0000 - val_tn: 16105.0000 - val_tp: 12737.0000 - val_precision: 0.8909 - val_recall: 0.9429 - val_accuracy: 0.9429\n",
      "Epoch 97/100\n",
      "7274/7274 [==============================] - 9s 1ms/step - loss: 0.2022 - fn: 2384.0000 - fp: 3369.0000 - tn: 37846.0000 - tp: 29133.0000 - precision: 0.8963 - recall: 0.9244 - accuracy: 0.9244 - val_loss: 0.1768 - val_fn: 710.0000 - val_fp: 1658.0000 - val_tn: 16006.0000 - val_tp: 12798.0000 - val_precision: 0.8853 - val_recall: 0.9474 - val_accuracy: 0.9474\n",
      "Epoch 98/100\n",
      "7274/7274 [==============================] - 9s 1ms/step - loss: 0.2027 - fn: 2352.0000 - fp: 3314.0000 - tn: 37901.0000 - tp: 29165.0000 - precision: 0.8980 - recall: 0.9254 - accuracy: 0.9254 - val_loss: 0.1729 - val_fn: 1523.0000 - val_fp: 590.0000 - val_tn: 17074.0000 - val_tp: 11985.0000 - val_precision: 0.9531 - val_recall: 0.8873 - val_accuracy: 0.8873\n",
      "Epoch 99/100\n",
      "7274/7274 [==============================] - 9s 1ms/step - loss: 0.2019 - fn: 2346.0000 - fp: 3330.0000 - tn: 37885.0000 - tp: 29171.0000 - precision: 0.8975 - recall: 0.9256 - accuracy: 0.9256 - val_loss: 0.1778 - val_fn: 1323.0000 - val_fp: 859.0000 - val_tn: 16805.0000 - val_tp: 12185.0000 - val_precision: 0.9341 - val_recall: 0.9021 - val_accuracy: 0.9021\n",
      "Epoch 100/100\n",
      "7274/7274 [==============================] - 9s 1ms/step - loss: 0.2032 - fn: 2374.0000 - fp: 3448.0000 - tn: 37767.0000 - tp: 29143.0000 - precision: 0.8942 - recall: 0.9247 - accuracy: 0.9247 - val_loss: 0.1714 - val_fn: 968.0000 - val_fp: 1119.0000 - val_tn: 16545.0000 - val_tp: 12540.0000 - val_precision: 0.9181 - val_recall: 0.9283 - val_accuracy: 0.9283\n"
     ]
    }
   ],
   "source": [
    "history1 = model.fit(x_train,y_train, epochs=100, batch_size=10, validation_data=(x_test, y_test))"
   ]
  },
  {
   "cell_type": "markdown",
   "id": "eb57940c",
   "metadata": {
    "id": "eb57940c"
   },
   "source": [
    "## 7. Conclusion \n",
    "\n",
    "Plot the training and validation loss\n",
    "Report the testing accuracy and loss.\n",
    "\n",
    "Report values for preformance study metrics like accuracy, precision, recall, F1 Score.\n",
    "\n",
    "A proper comparision based on different metrics should be done and not just accuracy alone, only then the comparision becomes authentic. You may use Confusion matrix, classification report, MAE etc per the requirement of your application/problem.\n",
    "\n",
    "Score 2 Marks"
   ]
  },
  {
   "cell_type": "markdown",
   "id": "3olW1w5yoZN-",
   "metadata": {
    "id": "3olW1w5yoZN-"
   },
   "source": [
    "### confusion matrix "
   ]
  },
  {
   "cell_type": "code",
   "execution_count": 46,
   "id": "CUIJeKd0DRSq",
   "metadata": {
    "colab": {
     "base_uri": "https://localhost:8080/"
    },
    "id": "CUIJeKd0DRSq",
    "outputId": "8d0b90fa-4b9e-4460-edd2-da04e2c18d35"
   },
   "outputs": [
    {
     "name": "stdout",
     "output_type": "stream",
     "text": [
      "confusion matrix for training\n",
      "+----------+----------+\n",
      "| positive | Negative |\n",
      "+----------+----------+\n",
      "| 29099.0  |  3568.0  |\n",
      "|  2418.0  | 37647.0  |\n",
      "+----------+----------+\n"
     ]
    }
   ],
   "source": [
    "##---------Type the answer below this line------------------##\n",
    "from prettytable import PrettyTable \n",
    "x = PrettyTable()\n",
    "x.field_names = [\"positive\", \"Negative\"]\n",
    "x._max_width = {\"posite\":30, \"Negative\":50}\n",
    "x.add_row([history.history['tp'][-1],history.history['fp'][-1]])\n",
    "x.add_row([history.history['fn'][-1],history.history['tn'][-1]])\n",
    "\n",
    "print('confusion matrix for training')\n",
    "print(x)"
   ]
  },
  {
   "cell_type": "code",
   "execution_count": 47,
   "id": "0q4ebN7nFGIs",
   "metadata": {
    "colab": {
     "base_uri": "https://localhost:8080/"
    },
    "id": "0q4ebN7nFGIs",
    "outputId": "62a7386e-0af4-47b2-ffd9-c7d6d47daf4d"
   },
   "outputs": [
    {
     "name": "stdout",
     "output_type": "stream",
     "text": [
      "Train precision: 0.8907766342163086\n",
      "Train recall: 0.9232795238494873\n",
      "Train accuracy: 0.9232795238494873\n",
      "Train F1-score: 2.769838571548462\n"
     ]
    }
   ],
   "source": [
    "print('Train precision:',history.history['precision'][-1])\n",
    "print('Train recall:',history.history['recall'][-1])\n",
    "print('Train accuracy:',history.history['accuracy'][-1])\n",
    "F1score= 2*(history.history['precision'][-1])*(history.history['recall'][-1])/(history.history['precision'][-1])+(history.history['recall'][-1])\n",
    "print('Train F1-score:',F1score) "
   ]
  },
  {
   "cell_type": "code",
   "execution_count": 48,
   "id": "0jY_V37OpELo",
   "metadata": {
    "colab": {
     "base_uri": "https://localhost:8080/"
    },
    "id": "0jY_V37OpELo",
    "outputId": "9d2a20bb-a0d8-4f3c-c8f3-ca42ea936977"
   },
   "outputs": [
    {
     "name": "stdout",
     "output_type": "stream",
     "text": [
      "confusion matrix for test\n",
      "+----------+----------+\n",
      "| positive | Negative |\n",
      "+----------+----------+\n",
      "| 12038.0  |  678.0   |\n",
      "|  1470.0  | 16986.0  |\n",
      "+----------+----------+\n"
     ]
    }
   ],
   "source": [
    "##---------Type the answer below this line------------------##\n",
    "from prettytable import PrettyTable \n",
    "x = PrettyTable()\n",
    "x.field_names = [\"positive\", \"Negative\"]\n",
    "x._max_width = {\"posite\":30, \"Negative\":50}\n",
    "x.add_row([history.history['val_tp'][-1],history.history['val_fp'][-1]])\n",
    "x.add_row([history.history['val_fn'][-1],history.history['val_tn'][-1]])\n",
    "\n",
    "print('confusion matrix for test')\n",
    "print(x)"
   ]
  },
  {
   "cell_type": "code",
   "execution_count": 49,
   "id": "WkILklr-GRgo",
   "metadata": {
    "colab": {
     "base_uri": "https://localhost:8080/"
    },
    "id": "WkILklr-GRgo",
    "outputId": "7158401e-5f85-4727-c855-a910a13323ba"
   },
   "outputs": [
    {
     "name": "stdout",
     "output_type": "stream",
     "text": [
      "Test precision: 0.9466813206672668\n",
      "Test recall: 0.8911756277084351\n",
      "Test accuracy: 0.8911756277084351\n",
      "Test F1-score: 2.673526883125305\n"
     ]
    }
   ],
   "source": [
    "print('Test precision:',history.history['val_precision'][-1])\n",
    "print('Test recall:',history.history['val_recall'][-1])\n",
    "print('Test accuracy:',history.history['val_accuracy'][-1])\n",
    "F1score=2*(history.history['val_precision'][-1])*(history.history['val_recall'][-1])/(history.history['val_precision'][-1])+(history.history['val_recall'][-1])\n",
    "print('Test F1-score:',F1score)"
   ]
  },
  {
   "cell_type": "markdown",
   "id": "81f9614f",
   "metadata": {
    "id": "81f9614f"
   },
   "source": [
    "Our model is working fine. Now we will visualize training and validation losses and accuracies"
   ]
  },
  {
   "cell_type": "code",
   "execution_count": 50,
   "id": "a6c90db4",
   "metadata": {
    "colab": {
     "base_uri": "https://localhost:8080/",
     "height": 295
    },
    "id": "a6c90db4",
    "outputId": "262d52b6-8000-4a62-86f8-9dc83c710353"
   },
   "outputs": [
    {
     "data": {
      "image/png": "[encoded data removed]",
      "text/plain": [
       "<Figure size 432x288 with 1 Axes>"
      ]
     },
     "metadata": {
      "needs_background": "light"
     },
     "output_type": "display_data"
    }
   ],
   "source": [
    "##---------Type the code below this line------------------##\n",
    "# summarize history for accuracy\n",
    "\n",
    "import matplotlib.pyplot as plt\n",
    "plt.plot(history.history['accuracy'])\n",
    "plt.plot(history.history['val_accuracy'])\n",
    "plt.title('Model accuracy')\n",
    "plt.ylabel('Accuracy')\n",
    "plt.xlabel('Epoch')\n",
    "plt.legend(['train', 'test'], loc='upper left')\n",
    "plt.show()"
   ]
  },
  {
   "cell_type": "code",
   "execution_count": 51,
   "id": "9bf06eb1",
   "metadata": {
    "colab": {
     "base_uri": "https://localhost:8080/",
     "height": 295
    },
    "id": "9bf06eb1",
    "outputId": "4bc90d19-9b32-4277-e0bb-20be35fa7063"
   },
   "outputs": [
    {
     "data": {
      "image/png": "[encoded data removed]",
      "text/plain": [
       "<Figure size 432x288 with 1 Axes>"
      ]
     },
     "metadata": {
      "needs_background": "light"
     },
     "output_type": "display_data"
    }
   ],
   "source": [
    "# summarize history for loss\n",
    "\n",
    "import matplotlib.pyplot as plt\n",
    "\n",
    "plt.plot(history.history['loss'])\n",
    "plt.plot(history.history['val_loss'])\n",
    "plt.title('model loss')\n",
    "plt.ylabel('loss')\n",
    "plt.xlabel('epoch')\n",
    "plt.legend(['train', 'test'], loc='upper left')\n",
    "plt.show()"
   ]
  },
  {
   "cell_type": "code",
   "execution_count": 53,
   "id": "jIYMmsvPnQh_",
   "metadata": {
    "colab": {
     "base_uri": "https://localhost:8080/"
    },
    "id": "jIYMmsvPnQh_",
    "outputId": "c8136e8e-4632-4f71-ef08-b766f112b80e"
   },
   "outputs": [
    {
     "name": "stdout",
     "output_type": "stream",
     "text": [
      "975/975 [==============================] - 1s 580us/step\n",
      "Mean Squared Error: \t 0.04890383211233266\n",
      "R2 Score: \t\t 0.8008445851508671\n"
     ]
    }
   ],
   "source": [
    "from sklearn.metrics import r2_score, mean_squared_error\n",
    "Ypredicted = model.predict(x_test)\n",
    "print(\"Mean Squared Error: \\t\", mean_squared_error(y_test, Ypredicted))\n",
    "print(\"R2 Score: \\t\\t\", r2_score(y_test, Ypredicted))"
   ]
  },
  {
   "cell_type": "markdown",
   "id": "79ed0137",
   "metadata": {
    "id": "79ed0137"
   },
   "source": [
    "## 8. Solution\n",
    "\n",
    "What is the solution that is proposed to solve the business problem discussed in Section 1. Also share your learnings while working through solving the problem in terms of challenges, observations, decisions made etc.\n",
    "\n",
    "Score 2 Marks"
   ]
  },
  {
   "cell_type": "code",
   "execution_count": 54,
   "id": "2f8b51c7",
   "metadata": {
    "id": "2f8b51c7"
   },
   "outputs": [],
   "source": [
    "##---------Type the answers below this line------------------##\n"
   ]
  },
  {
   "cell_type": "markdown",
   "id": "xdjVXKBOX0r-",
   "metadata": {
    "id": "xdjVXKBOX0r-"
   },
   "source": [
    "There are many factors which can affect the viability of a business from its competitiveness to its reputation and customer satisfaction. Customer satisfaction is particularly key as it can affect whether a customer is likely to reuse the service and whether they are likely to recommend the service. This is further emphasised by sources which highlight that retaining existing customers can be 4 to 10 times more cost effective then securing new customers.\n",
    "**We used deep learning model to predict customer satisfaction.**\n",
    "\n",
    "we found saveral missing data we replaced that with mean value, data type was not consistent so we changes as per need.we droped some unnessary features as well.\n",
    "In model training phase we faced main problem our modle accuracy was not improving beyound 85%.So try with different model architecture by changing no of layer, dropout, optimizer , no epoch etc.\n",
    "first we tried with 10 epoch than increased it 150 and so on, Finally we got best accuracy with 100 epoch and with above mention architecture. We can improve the model performance more with some other model architecture. "
   ]
  },
  {
   "cell_type": "markdown",
   "id": "RcDDQlfbZQ7E",
   "metadata": {
    "id": "RcDDQlfbZQ7E"
   },
   "source": [
    "##NOTE\n",
    "All Late Submissions will incur a penalty of -2 marks. So submit your assignments on time.\n",
    "\n",
    "Good Luck"
   ]
  },
  {
   "cell_type": "code",
   "execution_count": null,
   "id": "fd478c26",
   "metadata": {},
   "outputs": [],
   "source": []
  }
 ],
 "metadata": {
  "colab": {
   "provenance": []
  },
  "kernelspec": {
   "display_name": "Python 3",
   "language": "python",
   "name": "python3"
  },
  "language_info": {
   "codemirror_mode": {
    "name": "ipython",
    "version": 3
   },
   "file_extension": ".py",
   "mimetype": "text/x-python",
   "name": "python",
   "nbconvert_exporter": "python",
   "pygments_lexer": "ipython3",
   "version": "3.8.8"
  }
 },
 "nbformat": 4,
 "nbformat_minor": 5
}
